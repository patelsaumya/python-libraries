{
  "nbformat": 4,
  "nbformat_minor": 0,
  "metadata": {
    "colab": {
      "name": "Numpy Exercise.ipynb",
      "provenance": [],
      "authorship_tag": "ABX9TyPkcLdfsDlsAPSD4w5ovAjy",
      "include_colab_link": true
    },
    "kernelspec": {
      "name": "python3",
      "display_name": "Python 3"
    },
    "language_info": {
      "name": "python"
    }
  },
  "cells": [
    {
      "cell_type": "markdown",
      "metadata": {
        "id": "view-in-github",
        "colab_type": "text"
      },
      "source": [
        "<a href=\"https://colab.research.google.com/github/patelsaumya/python-libraries/blob/main/Numpy_Exercise.ipynb\" target=\"_parent\"><img src=\"https://colab.research.google.com/assets/colab-badge.svg\" alt=\"Open In Colab\"/></a>"
      ]
    },
    {
      "cell_type": "markdown",
      "metadata": {
        "id": "YXekQYEHuR5R"
      },
      "source": [
        "# Setup"
      ]
    },
    {
      "cell_type": "code",
      "metadata": {
        "id": "bnGKFqVrvDOp"
      },
      "source": [
        "import numpy as np"
      ],
      "execution_count": 2,
      "outputs": []
    },
    {
      "cell_type": "code",
      "metadata": {
        "id": "K9iNAciWuVRh"
      },
      "source": [
        "ary = np.array([\n",
        "  [ 1.     , 87.     , 57.54435],\n",
        "  [ 2.     ,  8.     ,  7.31704],\n",
        "  [ 3.     , 56.     , 56.82095],\n",
        "  [ 4.     , 63.     , 64.15579],\n",
        "  [ 5.     , 79      ,  5.74522],\n",
        "  [ 6.     , 45.     , 19.56758],\n",
        "  [ np.nan , 43.     , 39.62271],\n",
        "  [ 8.     , 47.     , 34.95107],\n",
        "  [ 9.     ,  2.     ,   np.nan],\n",
        "  [10.     , 79.     , 36.41022],\n",
        "  [11.     , 67.     , 49.83894],\n",
        "  [12.     , 24.     ,   np.inf]])"
      ],
      "execution_count": 14,
      "outputs": []
    },
    {
      "cell_type": "markdown",
      "metadata": {
        "id": "y7ToTkravIAI"
      },
      "source": [
        "## Find the indices of np.nan."
      ]
    },
    {
      "cell_type": "code",
      "metadata": {
        "colab": {
          "base_uri": "https://localhost:8080/"
        },
        "id": "7LS5T07HvBq_",
        "outputId": "e29587e8-f9cf-4d4d-ae0f-8d90e57ff003"
      },
      "source": [
        "masked_nan = np.isnan(ary)\n",
        "indices = np.argwhere(masked_nan)\n",
        "print(indices)"
      ],
      "execution_count": 22,
      "outputs": [
        {
          "output_type": "stream",
          "name": "stdout",
          "text": [
            "[[6 0]\n",
            " [8 2]]\n"
          ]
        }
      ]
    },
    {
      "cell_type": "markdown",
      "metadata": {
        "id": "UvWGhr6ywIHn"
      },
      "source": [
        "## Get all the numeric elements"
      ]
    },
    {
      "cell_type": "code",
      "metadata": {
        "colab": {
          "base_uri": "https://localhost:8080/"
        },
        "id": "ck8O4ixC2XU7",
        "outputId": "4bfce3a7-f13a-4f8d-9a07-c4887ec0b815"
      },
      "source": [
        "masked_nan = np.isnan(ary)\n",
        "masked_num = ~masked_nan\n",
        "ary[masked_num]"
      ],
      "execution_count": 23,
      "outputs": [
        {
          "output_type": "execute_result",
          "data": {
            "text/plain": [
              "array([ 1.     , 87.     , 57.54435,  2.     ,  8.     ,  7.31704,\n",
              "        3.     , 56.     , 56.82095,  4.     , 63.     , 64.15579,\n",
              "        5.     , 79.     ,  5.74522,  6.     , 45.     , 19.56758,\n",
              "       43.     , 39.62271,  8.     , 47.     , 34.95107,  9.     ,\n",
              "        2.     , 10.     , 79.     , 36.41022, 11.     , 67.     ,\n",
              "       49.83894, 12.     , 24.     ,      inf])"
            ]
          },
          "metadata": {},
          "execution_count": 23
        }
      ]
    },
    {
      "cell_type": "markdown",
      "metadata": {
        "id": "tnkHRY2fwX6S"
      },
      "source": [
        "# Get rows that donot have nan or inf"
      ]
    },
    {
      "cell_type": "code",
      "metadata": {
        "colab": {
          "base_uri": "https://localhost:8080/"
        },
        "id": "MjmJdMyO9AuP",
        "outputId": "76872fb4-1d32-4ef4-f7a4-26da580a0c4f"
      },
      "source": [
        "masked_nan_inf = np.any(np.isnan(ary) | np.isinf(ary), axis=1)\n",
        "masked_num = ~masked_nan_inf\n",
        "ary[masked_num,:]"
      ],
      "execution_count": 31,
      "outputs": [
        {
          "output_type": "execute_result",
          "data": {
            "text/plain": [
              "array([[ 1.     , 87.     , 57.54435],\n",
              "       [ 2.     ,  8.     ,  7.31704],\n",
              "       [ 3.     , 56.     , 56.82095],\n",
              "       [ 4.     , 63.     , 64.15579],\n",
              "       [ 5.     , 79.     ,  5.74522],\n",
              "       [ 6.     , 45.     , 19.56758],\n",
              "       [ 8.     , 47.     , 34.95107],\n",
              "       [10.     , 79.     , 36.41022],\n",
              "       [11.     , 67.     , 49.83894]])"
            ]
          },
          "metadata": {},
          "execution_count": 31
        }
      ]
    },
    {
      "cell_type": "code",
      "metadata": {
        "colab": {
          "base_uri": "https://localhost:8080/"
        },
        "id": "ln7KnHwP-kaZ",
        "outputId": "c938952d-3c4c-48d0-9d23-f1035d902700"
      },
      "source": [
        "# Alternative Solution\n",
        "row_indices = np.where(masked_num)\n",
        "ary[row_indices]"
      ],
      "execution_count": 34,
      "outputs": [
        {
          "output_type": "execute_result",
          "data": {
            "text/plain": [
              "array([[ 1.     , 87.     , 57.54435],\n",
              "       [ 2.     ,  8.     ,  7.31704],\n",
              "       [ 3.     , 56.     , 56.82095],\n",
              "       [ 4.     , 63.     , 64.15579],\n",
              "       [ 5.     , 79.     ,  5.74522],\n",
              "       [ 6.     , 45.     , 19.56758],\n",
              "       [ 8.     , 47.     , 34.95107],\n",
              "       [10.     , 79.     , 36.41022],\n",
              "       [11.     , 67.     , 49.83894]])"
            ]
          },
          "metadata": {},
          "execution_count": 34
        }
      ]
    },
    {
      "cell_type": "markdown",
      "metadata": {
        "id": "6SfKc4yH-FNV"
      },
      "source": [
        "# Get column-wise data that donot have np.nan"
      ]
    },
    {
      "cell_type": "code",
      "metadata": {
        "colab": {
          "base_uri": "https://localhost:8080/"
        },
        "id": "d6rwI2QZ9iw7",
        "outputId": "d45c942b-e1c9-4368-be1a-6d0962053e6a"
      },
      "source": [
        "masked_nan = np.any(np.isnan(ary), axis = 0)\n",
        "masked_num = ~masked_nan\n",
        "ary[:,masked_num]"
      ],
      "execution_count": 39,
      "outputs": [
        {
          "output_type": "execute_result",
          "data": {
            "text/plain": [
              "array([[87.],\n",
              "       [ 8.],\n",
              "       [56.],\n",
              "       [63.],\n",
              "       [79.],\n",
              "       [45.],\n",
              "       [43.],\n",
              "       [47.],\n",
              "       [ 2.],\n",
              "       [79.],\n",
              "       [67.],\n",
              "       [24.]])"
            ]
          },
          "metadata": {},
          "execution_count": 39
        }
      ]
    },
    {
      "cell_type": "code",
      "metadata": {
        "colab": {
          "base_uri": "https://localhost:8080/"
        },
        "id": "OIz4flIM-PvO",
        "outputId": "d542202b-5312-46ed-b33e-0c258ada31bd"
      },
      "source": [
        "# Alternative Solution\n",
        "col_indices = np.where(masked_num)\n",
        "ary[:,col_indices]"
      ],
      "execution_count": 44,
      "outputs": [
        {
          "output_type": "execute_result",
          "data": {
            "text/plain": [
              "array([[[87.]],\n",
              "\n",
              "       [[ 8.]],\n",
              "\n",
              "       [[56.]],\n",
              "\n",
              "       [[63.]],\n",
              "\n",
              "       [[79.]],\n",
              "\n",
              "       [[45.]],\n",
              "\n",
              "       [[43.]],\n",
              "\n",
              "       [[47.]],\n",
              "\n",
              "       [[ 2.]],\n",
              "\n",
              "       [[79.]],\n",
              "\n",
              "       [[67.]],\n",
              "\n",
              "       [[24.]]])"
            ]
          },
          "metadata": {},
          "execution_count": 44
        }
      ]
    },
    {
      "cell_type": "code",
      "metadata": {
        "id": "Ov7ngzqUAqfc"
      },
      "source": [
        ""
      ],
      "execution_count": null,
      "outputs": []
    }
  ]
}