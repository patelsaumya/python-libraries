{
  "nbformat": 4,
  "nbformat_minor": 0,
  "metadata": {
    "colab": {
      "name": "Numpy Exercise.ipynb",
      "provenance": [],
      "authorship_tag": "ABX9TyPMloyZ8MAj22y9owEEGz/l",
      "include_colab_link": true
    },
    "kernelspec": {
      "name": "python3",
      "display_name": "Python 3"
    },
    "language_info": {
      "name": "python"
    }
  },
  "cells": [
    {
      "cell_type": "markdown",
      "metadata": {
        "id": "view-in-github",
        "colab_type": "text"
      },
      "source": [
        "<a href=\"https://colab.research.google.com/github/patelsaumya/python-libraries/blob/main/Numpy_Exercise.ipynb\" target=\"_parent\"><img src=\"https://colab.research.google.com/assets/colab-badge.svg\" alt=\"Open In Colab\"/></a>"
      ]
    },
    {
      "cell_type": "markdown",
      "metadata": {
        "id": "YXekQYEHuR5R"
      },
      "source": [
        "# Setup"
      ]
    },
    {
      "cell_type": "code",
      "metadata": {
        "id": "bnGKFqVrvDOp"
      },
      "source": [
        "import numpy as np"
      ],
      "execution_count": 1,
      "outputs": []
    },
    {
      "cell_type": "code",
      "metadata": {
        "id": "K9iNAciWuVRh"
      },
      "source": [
        "ary = np.array([\n",
        "  [ 1.     , 87.     , 57.54435],\n",
        "  [ 2.     ,  8.     ,  7.31704],\n",
        "  [ 3.     , 56.     , 56.82095],\n",
        "  [ 4.     , 63.     , 64.15579],\n",
        "  [ 5.     , 79      ,  5.74522],\n",
        "  [ 6.     , 45.     , 19.56758],\n",
        "  [ np.nan , 43.     , 39.62271],\n",
        "  [ 8.     , 47.     , 34.95107],\n",
        "  [ 9.     ,  2.     ,   np.nan],\n",
        "  [10.     , 79.     , 36.41022],\n",
        "  [11.     , 67.     , 49.83894],\n",
        "  [12.     , 24.     ,   np.inf]])"
      ],
      "execution_count": 2,
      "outputs": []
    },
    {
      "cell_type": "markdown",
      "metadata": {
        "id": "y7ToTkravIAI"
      },
      "source": [
        "## Find the indices of np.nan."
      ]
    },
    {
      "cell_type": "code",
      "metadata": {
        "colab": {
          "base_uri": "https://localhost:8080/"
        },
        "id": "7LS5T07HvBq_",
        "outputId": "dd46ac68-bb04-49f5-d434-94c5d21463d3"
      },
      "source": [
        "masked_nan = np.isnan(ary)\n",
        "indices = np.argwhere(masked_nan)\n",
        "print(indices)"
      ],
      "execution_count": 3,
      "outputs": [
        {
          "output_type": "stream",
          "name": "stdout",
          "text": [
            "[[6 0]\n",
            " [8 2]]\n"
          ]
        }
      ]
    },
    {
      "cell_type": "markdown",
      "metadata": {
        "id": "UvWGhr6ywIHn"
      },
      "source": [
        "## Get all the numeric elements"
      ]
    },
    {
      "cell_type": "code",
      "metadata": {
        "colab": {
          "base_uri": "https://localhost:8080/"
        },
        "id": "ck8O4ixC2XU7",
        "outputId": "8d3cf8a2-df12-4863-acd4-e05dfab36117"
      },
      "source": [
        "masked_nan = np.isnan(ary)\n",
        "masked_num = ~masked_nan\n",
        "ary[masked_num]"
      ],
      "execution_count": 4,
      "outputs": [
        {
          "output_type": "execute_result",
          "data": {
            "text/plain": [
              "array([ 1.     , 87.     , 57.54435,  2.     ,  8.     ,  7.31704,\n",
              "        3.     , 56.     , 56.82095,  4.     , 63.     , 64.15579,\n",
              "        5.     , 79.     ,  5.74522,  6.     , 45.     , 19.56758,\n",
              "       43.     , 39.62271,  8.     , 47.     , 34.95107,  9.     ,\n",
              "        2.     , 10.     , 79.     , 36.41022, 11.     , 67.     ,\n",
              "       49.83894, 12.     , 24.     ,      inf])"
            ]
          },
          "metadata": {},
          "execution_count": 4
        }
      ]
    },
    {
      "cell_type": "markdown",
      "metadata": {
        "id": "tnkHRY2fwX6S"
      },
      "source": [
        "# Get rows that donot have nan or inf"
      ]
    },
    {
      "cell_type": "code",
      "metadata": {
        "colab": {
          "base_uri": "https://localhost:8080/"
        },
        "id": "MjmJdMyO9AuP",
        "outputId": "df463f69-7d34-44e2-bb29-f357d9ac0362"
      },
      "source": [
        "masked_ary = np.isnan(ary) | np.isinf(ary)\n",
        "print(masked_ary)\n",
        "print('---------')\n",
        "masked_nan_inf = np.any(masked_ary, axis=1)\n",
        "print(masked_nan_inf)\n",
        "print('---------')\n",
        "masked_num = ~masked_nan_inf\n",
        "print(masked_num)\n",
        "print('---------')\n",
        "ary[masked_num,:]"
      ],
      "execution_count": 5,
      "outputs": [
        {
          "output_type": "stream",
          "name": "stdout",
          "text": [
            "[[False False False]\n",
            " [False False False]\n",
            " [False False False]\n",
            " [False False False]\n",
            " [False False False]\n",
            " [False False False]\n",
            " [ True False False]\n",
            " [False False False]\n",
            " [False False  True]\n",
            " [False False False]\n",
            " [False False False]\n",
            " [False False  True]]\n",
            "---------\n",
            "[False False False False False False  True False  True False False  True]\n",
            "---------\n",
            "[ True  True  True  True  True  True False  True False  True  True False]\n",
            "---------\n"
          ]
        },
        {
          "output_type": "execute_result",
          "data": {
            "text/plain": [
              "array([[ 1.     , 87.     , 57.54435],\n",
              "       [ 2.     ,  8.     ,  7.31704],\n",
              "       [ 3.     , 56.     , 56.82095],\n",
              "       [ 4.     , 63.     , 64.15579],\n",
              "       [ 5.     , 79.     ,  5.74522],\n",
              "       [ 6.     , 45.     , 19.56758],\n",
              "       [ 8.     , 47.     , 34.95107],\n",
              "       [10.     , 79.     , 36.41022],\n",
              "       [11.     , 67.     , 49.83894]])"
            ]
          },
          "metadata": {},
          "execution_count": 5
        }
      ]
    },
    {
      "cell_type": "code",
      "metadata": {
        "colab": {
          "base_uri": "https://localhost:8080/"
        },
        "id": "ln7KnHwP-kaZ",
        "outputId": "e9734e80-d1f7-4eeb-8637-56f887cf3eca"
      },
      "source": [
        "# Alternative Solution\n",
        "row_indices = np.where(masked_num)\n",
        "ary[row_indices]"
      ],
      "execution_count": 6,
      "outputs": [
        {
          "output_type": "execute_result",
          "data": {
            "text/plain": [
              "array([[ 1.     , 87.     , 57.54435],\n",
              "       [ 2.     ,  8.     ,  7.31704],\n",
              "       [ 3.     , 56.     , 56.82095],\n",
              "       [ 4.     , 63.     , 64.15579],\n",
              "       [ 5.     , 79.     ,  5.74522],\n",
              "       [ 6.     , 45.     , 19.56758],\n",
              "       [ 8.     , 47.     , 34.95107],\n",
              "       [10.     , 79.     , 36.41022],\n",
              "       [11.     , 67.     , 49.83894]])"
            ]
          },
          "metadata": {},
          "execution_count": 6
        }
      ]
    },
    {
      "cell_type": "markdown",
      "metadata": {
        "id": "6SfKc4yH-FNV"
      },
      "source": [
        "# Get column-wise data that donot have np.nan"
      ]
    },
    {
      "cell_type": "code",
      "metadata": {
        "colab": {
          "base_uri": "https://localhost:8080/"
        },
        "id": "d6rwI2QZ9iw7",
        "outputId": "35c53105-8752-4210-a601-84c2d9807be2"
      },
      "source": [
        "masked_ary = np.isnan(ary)\n",
        "print(masked_ary)\n",
        "print('---------')\n",
        "masked_nan = np.any(masked_ary, axis = 0)\n",
        "print(masked_nan)\n",
        "print('---------')\n",
        "masked_num = ~masked_nan\n",
        "print(masked_num)\n",
        "print('---------')\n",
        "ary[:,masked_num]"
      ],
      "execution_count": 7,
      "outputs": [
        {
          "output_type": "stream",
          "name": "stdout",
          "text": [
            "[[False False False]\n",
            " [False False False]\n",
            " [False False False]\n",
            " [False False False]\n",
            " [False False False]\n",
            " [False False False]\n",
            " [ True False False]\n",
            " [False False False]\n",
            " [False False  True]\n",
            " [False False False]\n",
            " [False False False]\n",
            " [False False False]]\n",
            "---------\n",
            "[ True False  True]\n",
            "---------\n",
            "[False  True False]\n",
            "---------\n"
          ]
        },
        {
          "output_type": "execute_result",
          "data": {
            "text/plain": [
              "array([[87.],\n",
              "       [ 8.],\n",
              "       [56.],\n",
              "       [63.],\n",
              "       [79.],\n",
              "       [45.],\n",
              "       [43.],\n",
              "       [47.],\n",
              "       [ 2.],\n",
              "       [79.],\n",
              "       [67.],\n",
              "       [24.]])"
            ]
          },
          "metadata": {},
          "execution_count": 7
        }
      ]
    },
    {
      "cell_type": "code",
      "metadata": {
        "colab": {
          "base_uri": "https://localhost:8080/"
        },
        "id": "OIz4flIM-PvO",
        "outputId": "66dc80b9-1a5a-43d1-83c8-6320e9e459ac"
      },
      "source": [
        "# Alternative Solution\n",
        "col_indices = np.where(masked_num)\n",
        "ary[:,col_indices]"
      ],
      "execution_count": 8,
      "outputs": [
        {
          "output_type": "execute_result",
          "data": {
            "text/plain": [
              "array([[[87.]],\n",
              "\n",
              "       [[ 8.]],\n",
              "\n",
              "       [[56.]],\n",
              "\n",
              "       [[63.]],\n",
              "\n",
              "       [[79.]],\n",
              "\n",
              "       [[45.]],\n",
              "\n",
              "       [[43.]],\n",
              "\n",
              "       [[47.]],\n",
              "\n",
              "       [[ 2.]],\n",
              "\n",
              "       [[79.]],\n",
              "\n",
              "       [[67.]],\n",
              "\n",
              "       [[24.]]])"
            ]
          },
          "metadata": {},
          "execution_count": 8
        }
      ]
    },
    {
      "cell_type": "code",
      "metadata": {
        "id": "Ov7ngzqUAqfc"
      },
      "source": [
        ""
      ],
      "execution_count": 8,
      "outputs": []
    }
  ]
}