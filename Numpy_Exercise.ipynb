{
  "nbformat": 4,
  "nbformat_minor": 0,
  "metadata": {
    "colab": {
      "name": "Numpy Exercise.ipynb",
      "provenance": [],
      "authorship_tag": "ABX9TyOd2a4yDciRIwj6wJbIAYv1",
      "include_colab_link": true
    },
    "kernelspec": {
      "name": "python3",
      "display_name": "Python 3"
    },
    "language_info": {
      "name": "python"
    }
  },
  "cells": [
    {
      "cell_type": "markdown",
      "metadata": {
        "id": "view-in-github",
        "colab_type": "text"
      },
      "source": [
        "<a href=\"https://colab.research.google.com/github/patelsaumya/python-libraries/blob/main/Numpy_Exercise.ipynb\" target=\"_parent\"><img src=\"https://colab.research.google.com/assets/colab-badge.svg\" alt=\"Open In Colab\"/></a>"
      ]
    },
    {
      "cell_type": "markdown",
      "metadata": {
        "id": "YXekQYEHuR5R"
      },
      "source": [
        "# Setup"
      ]
    },
    {
      "cell_type": "code",
      "metadata": {
        "id": "bnGKFqVrvDOp"
      },
      "source": [
        "import numpy as np"
      ],
      "execution_count": 2,
      "outputs": []
    },
    {
      "cell_type": "code",
      "metadata": {
        "id": "K9iNAciWuVRh"
      },
      "source": [
        "ary = np.array([\n",
        "  [ 1.     , 87.     , 57.54435],\n",
        "  [ 2.     ,  8.     ,  7.31704],\n",
        "  [ 3.     , 56.     , 56.82095],\n",
        "  [ 4.     , 63.     , 64.15579],\n",
        "  [ 5.     , 79      ,  5.74522],\n",
        "  [ 6.     , 45.     , 19.56758],\n",
        "  [ np.nan , 43.     , 39.62271],\n",
        "  [ 8.     , 47.     , 34.95107],\n",
        "  [ 9.     ,  2.     ,   np.nan],\n",
        "  [10.     , 79.     , 36.41022],\n",
        "  [11.     , 67.     , 49.83894],\n",
        "  [12.     , 24.     ,   np.inf]])"
      ],
      "execution_count": 3,
      "outputs": []
    },
    {
      "cell_type": "markdown",
      "metadata": {
        "id": "y7ToTkravIAI"
      },
      "source": [
        "## Find the indices of np.nan."
      ]
    },
    {
      "cell_type": "code",
      "metadata": {
        "colab": {
          "base_uri": "https://localhost:8080/"
        },
        "id": "7LS5T07HvBq_",
        "outputId": "850e5059-e309-4cc4-9542-0f58671d2e8d"
      },
      "source": [
        "masked_nan = np.isnan(ary)\n",
        "indices = np.argwhere(masked_nan)\n",
        "print(indices)"
      ],
      "execution_count": 4,
      "outputs": [
        {
          "output_type": "stream",
          "name": "stdout",
          "text": [
            "[[6 0]\n",
            " [8 2]]\n"
          ]
        }
      ]
    },
    {
      "cell_type": "markdown",
      "metadata": {
        "id": "UvWGhr6ywIHn"
      },
      "source": [
        "## Get all the numeric elements"
      ]
    },
    {
      "cell_type": "code",
      "metadata": {
        "colab": {
          "base_uri": "https://localhost:8080/"
        },
        "id": "ck8O4ixC2XU7",
        "outputId": "19c4b3c4-7edb-4203-9980-46f510a6a48e"
      },
      "source": [
        "masked_nan = np.isnan(ary)\n",
        "masked_num = ~masked_nan\n",
        "ary[masked_num]"
      ],
      "execution_count": 5,
      "outputs": [
        {
          "output_type": "execute_result",
          "data": {
            "text/plain": [
              "array([ 1.     , 87.     , 57.54435,  2.     ,  8.     ,  7.31704,\n",
              "        3.     , 56.     , 56.82095,  4.     , 63.     , 64.15579,\n",
              "        5.     , 79.     ,  5.74522,  6.     , 45.     , 19.56758,\n",
              "       43.     , 39.62271,  8.     , 47.     , 34.95107,  9.     ,\n",
              "        2.     , 10.     , 79.     , 36.41022, 11.     , 67.     ,\n",
              "       49.83894, 12.     , 24.     ,      inf])"
            ]
          },
          "metadata": {},
          "execution_count": 5
        }
      ]
    },
    {
      "cell_type": "markdown",
      "metadata": {
        "id": "tnkHRY2fwX6S"
      },
      "source": [
        "# Get rows that donot have nan or inf"
      ]
    },
    {
      "cell_type": "code",
      "metadata": {
        "colab": {
          "base_uri": "https://localhost:8080/"
        },
        "id": "MjmJdMyO9AuP",
        "outputId": "1f20d685-3f09-4647-a5da-60aa33105640"
      },
      "source": [
        "masked_nan_inf = np.any(np.isnan(ary) | np.isinf(ary), axis=1)\n",
        "masked_num = ~masked_nan_inf\n",
        "ary[masked_num,:]"
      ],
      "execution_count": 6,
      "outputs": [
        {
          "output_type": "execute_result",
          "data": {
            "text/plain": [
              "array([[ 1.     , 87.     , 57.54435],\n",
              "       [ 2.     ,  8.     ,  7.31704],\n",
              "       [ 3.     , 56.     , 56.82095],\n",
              "       [ 4.     , 63.     , 64.15579],\n",
              "       [ 5.     , 79.     ,  5.74522],\n",
              "       [ 6.     , 45.     , 19.56758],\n",
              "       [ 8.     , 47.     , 34.95107],\n",
              "       [10.     , 79.     , 36.41022],\n",
              "       [11.     , 67.     , 49.83894]])"
            ]
          },
          "metadata": {},
          "execution_count": 6
        }
      ]
    },
    {
      "cell_type": "code",
      "metadata": {
        "colab": {
          "base_uri": "https://localhost:8080/"
        },
        "id": "ln7KnHwP-kaZ",
        "outputId": "0e219dc8-7f97-4201-a16d-f3c3b3f3a173"
      },
      "source": [
        "# Alternative Solution\n",
        "row_indices = np.where(masked_num)\n",
        "ary[row_indices]"
      ],
      "execution_count": 7,
      "outputs": [
        {
          "output_type": "execute_result",
          "data": {
            "text/plain": [
              "array([[ 1.     , 87.     , 57.54435],\n",
              "       [ 2.     ,  8.     ,  7.31704],\n",
              "       [ 3.     , 56.     , 56.82095],\n",
              "       [ 4.     , 63.     , 64.15579],\n",
              "       [ 5.     , 79.     ,  5.74522],\n",
              "       [ 6.     , 45.     , 19.56758],\n",
              "       [ 8.     , 47.     , 34.95107],\n",
              "       [10.     , 79.     , 36.41022],\n",
              "       [11.     , 67.     , 49.83894]])"
            ]
          },
          "metadata": {},
          "execution_count": 7
        }
      ]
    },
    {
      "cell_type": "markdown",
      "metadata": {
        "id": "6SfKc4yH-FNV"
      },
      "source": [
        "# Get column-wise data that have np.nan or np.inf"
      ]
    },
    {
      "cell_type": "code",
      "metadata": {
        "colab": {
          "base_uri": "https://localhost:8080/"
        },
        "id": "d6rwI2QZ9iw7",
        "outputId": "8226cefe-eb23-4c5e-e744-f71f7ebb44a9"
      },
      "source": [
        "masked_nan = np.any(np.isnan(ary) | np.isinf(ary), axis = 0)\n",
        "ary[:,masked_nan]"
      ],
      "execution_count": 8,
      "outputs": [
        {
          "output_type": "execute_result",
          "data": {
            "text/plain": [
              "array([[ 1.     , 57.54435],\n",
              "       [ 2.     ,  7.31704],\n",
              "       [ 3.     , 56.82095],\n",
              "       [ 4.     , 64.15579],\n",
              "       [ 5.     ,  5.74522],\n",
              "       [ 6.     , 19.56758],\n",
              "       [     nan, 39.62271],\n",
              "       [ 8.     , 34.95107],\n",
              "       [ 9.     ,      nan],\n",
              "       [10.     , 36.41022],\n",
              "       [11.     , 49.83894],\n",
              "       [12.     ,      inf]])"
            ]
          },
          "metadata": {},
          "execution_count": 8
        }
      ]
    },
    {
      "cell_type": "code",
      "metadata": {
        "colab": {
          "base_uri": "https://localhost:8080/"
        },
        "id": "OIz4flIM-PvO",
        "outputId": "4265933d-8545-4f9f-e2be-4539e2d8c529"
      },
      "source": [
        "# Alternative Solution\n",
        "col_indices = np.where(masked_nan)\n",
        "ary[:,col_indices]"
      ],
      "execution_count": 9,
      "outputs": [
        {
          "output_type": "execute_result",
          "data": {
            "text/plain": [
              "array([[[ 1.     , 57.54435]],\n",
              "\n",
              "       [[ 2.     ,  7.31704]],\n",
              "\n",
              "       [[ 3.     , 56.82095]],\n",
              "\n",
              "       [[ 4.     , 64.15579]],\n",
              "\n",
              "       [[ 5.     ,  5.74522]],\n",
              "\n",
              "       [[ 6.     , 19.56758]],\n",
              "\n",
              "       [[     nan, 39.62271]],\n",
              "\n",
              "       [[ 8.     , 34.95107]],\n",
              "\n",
              "       [[ 9.     ,      nan]],\n",
              "\n",
              "       [[10.     , 36.41022]],\n",
              "\n",
              "       [[11.     , 49.83894]],\n",
              "\n",
              "       [[12.     ,      inf]]])"
            ]
          },
          "metadata": {},
          "execution_count": 9
        }
      ]
    }
  ]
}