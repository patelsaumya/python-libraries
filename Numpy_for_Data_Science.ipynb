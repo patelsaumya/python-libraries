{
  "nbformat": 4,
  "nbformat_minor": 0,
  "metadata": {
    "colab": {
      "name": "Numpy for Data Science.ipynb",
      "provenance": [],
      "collapsed_sections": [
        "oN0T_fKmYYyB",
        "h1smzhqBYkuU",
        "8LLBFaDxYqv-"
      ],
      "toc_visible": true,
      "include_colab_link": true
    },
    "kernelspec": {
      "name": "python3",
      "display_name": "Python 3"
    },
    "language_info": {
      "name": "python"
    }
  },
  "cells": [
    {
      "cell_type": "markdown",
      "metadata": {
        "id": "view-in-github",
        "colab_type": "text"
      },
      "source": [
        "<a href=\"https://colab.research.google.com/github/patelsaumya/python-libraries/blob/main/Numpy_for_Data_Science.ipynb\" target=\"_parent\"><img src=\"https://colab.research.google.com/assets/colab-badge.svg\" alt=\"Open In Colab\"/></a>"
      ]
    },
    {
      "cell_type": "code",
      "metadata": {
        "id": "22q_T1NAUOgq"
      },
      "source": [
        "import numpy as np"
      ],
      "execution_count": null,
      "outputs": []
    },
    {
      "cell_type": "markdown",
      "metadata": {
        "id": "N6-SzvblTzkm"
      },
      "source": [
        "# Creating Arrays"
      ]
    },
    {
      "cell_type": "markdown",
      "metadata": {
        "id": "q5syUGmMUD-t"
      },
      "source": [
        "## Explicitly Initialized Arrays\n"
      ]
    },
    {
      "cell_type": "code",
      "metadata": {
        "colab": {
          "base_uri": "https://localhost:8080/"
        },
        "id": "Mc7r6ks3UGI4",
        "outputId": "0b503285-781b-4d58-d3a2-a2bd10a1379e"
      },
      "source": [
        "ary = np.array([45,87,34, 5])\n",
        "ary, ary.dtype, ary.ndim, ary.shape, ary.size, ary[2]"
      ],
      "execution_count": null,
      "outputs": [
        {
          "output_type": "execute_result",
          "data": {
            "text/plain": [
              "(array([45, 87, 34,  5]), dtype('int64'), 1, (4,), 4, 34)"
            ]
          },
          "metadata": {},
          "execution_count": 2
        }
      ]
    },
    {
      "cell_type": "code",
      "metadata": {
        "colab": {
          "base_uri": "https://localhost:8080/"
        },
        "id": "mbo-setTUVyj",
        "outputId": "46d3e931-298d-4faf-a9dc-194f77213ea3"
      },
      "source": [
        "ary = np.array([[44,6,78,34],[23,78,90,78]], dtype='int32')\n",
        "ary, ary.dtype, ary.ndim, ary.shape, ary.size, ary[1,3]"
      ],
      "execution_count": null,
      "outputs": [
        {
          "output_type": "execute_result",
          "data": {
            "text/plain": [
              "(array([[44,  6, 78, 34],\n",
              "        [23, 78, 90, 78]], dtype=int32), dtype('int32'), 2, (2, 4), 8, 78)"
            ]
          },
          "metadata": {},
          "execution_count": 3
        }
      ]
    },
    {
      "cell_type": "markdown",
      "metadata": {
        "id": "JWQhV7kPVfIR"
      },
      "source": [
        "## Create Identity Matrix\n"
      ]
    },
    {
      "cell_type": "code",
      "metadata": {
        "colab": {
          "base_uri": "https://localhost:8080/"
        },
        "id": "6WRAXp2UW3Fs",
        "outputId": "f0269740-13af-4c73-aaea-87a9815eee66"
      },
      "source": [
        "np.eye(1)"
      ],
      "execution_count": null,
      "outputs": [
        {
          "output_type": "execute_result",
          "data": {
            "text/plain": [
              "array([[1.]])"
            ]
          },
          "metadata": {},
          "execution_count": 4
        }
      ]
    },
    {
      "cell_type": "code",
      "metadata": {
        "colab": {
          "base_uri": "https://localhost:8080/"
        },
        "id": "uZ5-BIWdW6Nq",
        "outputId": "40a29694-d134-4a9f-b479-b10afc61a7f6"
      },
      "source": [
        "np.eye(3)"
      ],
      "execution_count": null,
      "outputs": [
        {
          "output_type": "execute_result",
          "data": {
            "text/plain": [
              "array([[1., 0., 0.],\n",
              "       [0., 1., 0.],\n",
              "       [0., 0., 1.]])"
            ]
          },
          "metadata": {},
          "execution_count": 5
        }
      ]
    },
    {
      "cell_type": "markdown",
      "metadata": {
        "id": "oN0T_fKmYYyB"
      },
      "source": [
        "## Diagonal Matrix"
      ]
    },
    {
      "cell_type": "markdown",
      "metadata": {
        "id": "h1smzhqBYkuU"
      },
      "source": [
        "### Create Diagonal Matrix"
      ]
    },
    {
      "cell_type": "code",
      "metadata": {
        "colab": {
          "base_uri": "https://localhost:8080/"
        },
        "id": "C6s8UicmYdDW",
        "outputId": "85eddc38-d935-4923-cb9e-6fc4074dff7f"
      },
      "source": [
        "np.diag([1,5,7])"
      ],
      "execution_count": null,
      "outputs": [
        {
          "output_type": "execute_result",
          "data": {
            "text/plain": [
              "array([[1, 0, 0],\n",
              "       [0, 5, 0],\n",
              "       [0, 0, 7]])"
            ]
          },
          "metadata": {},
          "execution_count": 6
        }
      ]
    },
    {
      "cell_type": "markdown",
      "metadata": {
        "id": "8LLBFaDxYqv-"
      },
      "source": [
        "### Extract Diagonal from a given Matrix"
      ]
    },
    {
      "cell_type": "code",
      "metadata": {
        "colab": {
          "base_uri": "https://localhost:8080/"
        },
        "id": "Co5xBtRqY3Z_",
        "outputId": "a46571bf-2a00-418d-a38d-1b04d0abb002"
      },
      "source": [
        "ary = np.array([[23,14,65], [345,78,90]])\n",
        "np.diag(ary)"
      ],
      "execution_count": null,
      "outputs": [
        {
          "output_type": "execute_result",
          "data": {
            "text/plain": [
              "array([23, 78])"
            ]
          },
          "metadata": {},
          "execution_count": 7
        }
      ]
    },
    {
      "cell_type": "markdown",
      "metadata": {
        "id": "eNQs4d4aaLrf"
      },
      "source": [
        "## Create Matrix of ones, zeros, empty, full w/wo like"
      ]
    },
    {
      "cell_type": "markdown",
      "metadata": {
        "id": "Fa0H2RkhW81j"
      },
      "source": [
        "### Without like i.e. using specific shape"
      ]
    },
    {
      "cell_type": "code",
      "metadata": {
        "colab": {
          "base_uri": "https://localhost:8080/"
        },
        "id": "GzY6DYaEWT_R",
        "outputId": "f24ffcea-eb73-4df7-8007-d01050ac783a"
      },
      "source": [
        "np.ones((2,3))"
      ],
      "execution_count": null,
      "outputs": [
        {
          "output_type": "execute_result",
          "data": {
            "text/plain": [
              "array([[1., 1., 1.],\n",
              "       [1., 1., 1.]])"
            ]
          },
          "metadata": {},
          "execution_count": 8
        }
      ]
    },
    {
      "cell_type": "code",
      "metadata": {
        "colab": {
          "base_uri": "https://localhost:8080/"
        },
        "id": "OOmGe9h-XL3B",
        "outputId": "0a6de073-5b3f-4f23-84dc-535c36bd098e"
      },
      "source": [
        "np.zeros((2,3))"
      ],
      "execution_count": null,
      "outputs": [
        {
          "output_type": "execute_result",
          "data": {
            "text/plain": [
              "array([[0., 0., 0.],\n",
              "       [0., 0., 0.]])"
            ]
          },
          "metadata": {},
          "execution_count": 9
        }
      ]
    },
    {
      "cell_type": "code",
      "metadata": {
        "colab": {
          "base_uri": "https://localhost:8080/"
        },
        "id": "li1_KYrlXN8I",
        "outputId": "7e0640aa-77e6-4520-b9a7-ee7c7cc02845"
      },
      "source": [
        "np.empty((2,3))"
      ],
      "execution_count": null,
      "outputs": [
        {
          "output_type": "execute_result",
          "data": {
            "text/plain": [
              "array([[0., 0., 0.],\n",
              "       [0., 0., 0.]])"
            ]
          },
          "metadata": {},
          "execution_count": 10
        }
      ]
    },
    {
      "cell_type": "code",
      "metadata": {
        "colab": {
          "base_uri": "https://localhost:8080/"
        },
        "id": "QYNzQ5m2XTVp",
        "outputId": "8cef18fa-9054-41a5-848d-2955f924e17a"
      },
      "source": [
        "np.full((2,3), 5)"
      ],
      "execution_count": null,
      "outputs": [
        {
          "output_type": "execute_result",
          "data": {
            "text/plain": [
              "array([[5, 5, 5],\n",
              "       [5, 5, 5]])"
            ]
          },
          "metadata": {},
          "execution_count": 11
        }
      ]
    },
    {
      "cell_type": "markdown",
      "metadata": {
        "id": "FUVL_6znXfEo"
      },
      "source": [
        "### Using shape of other matrix i.e. with like"
      ]
    },
    {
      "cell_type": "code",
      "metadata": {
        "colab": {
          "base_uri": "https://localhost:8080/"
        },
        "id": "Hs7xVvuHXWYj",
        "outputId": "f6f8c7eb-c7ab-4b1d-87a4-cb0813e36c28"
      },
      "source": [
        "ary = np.array([[23,14,65], [345,78,90]])\n",
        "np.ones_like(ary)"
      ],
      "execution_count": null,
      "outputs": [
        {
          "output_type": "execute_result",
          "data": {
            "text/plain": [
              "array([[1, 1, 1],\n",
              "       [1, 1, 1]])"
            ]
          },
          "metadata": {},
          "execution_count": 12
        }
      ]
    },
    {
      "cell_type": "code",
      "metadata": {
        "colab": {
          "base_uri": "https://localhost:8080/"
        },
        "id": "AeGHVMMeX80S",
        "outputId": "2f200fab-3574-47c2-b532-efd1748d9443"
      },
      "source": [
        "# Use with Caution\n",
        "np.empty_like(ary)"
      ],
      "execution_count": null,
      "outputs": [
        {
          "output_type": "execute_result",
          "data": {
            "text/plain": [
              "array([[94851762600416,              0,              0],\n",
              "       [             0,              0,              0]])"
            ]
          },
          "metadata": {},
          "execution_count": 13
        }
      ]
    },
    {
      "cell_type": "markdown",
      "metadata": {
        "id": "vEYqfywvazZQ"
      },
      "source": [
        "# Converting DataType of Arrays"
      ]
    },
    {
      "cell_type": "code",
      "metadata": {
        "colab": {
          "base_uri": "https://localhost:8080/"
        },
        "id": "wncuaxLia7pV",
        "outputId": "75638467-d8c3-4604-9cee-4127a5726402"
      },
      "source": [
        "ary = np.eye(2)\n",
        "ary, ary.dtype"
      ],
      "execution_count": null,
      "outputs": [
        {
          "output_type": "execute_result",
          "data": {
            "text/plain": [
              "(array([[1., 0.],\n",
              "        [0., 1.]]), dtype('float64'))"
            ]
          },
          "metadata": {},
          "execution_count": 14
        }
      ]
    },
    {
      "cell_type": "code",
      "metadata": {
        "colab": {
          "base_uri": "https://localhost:8080/"
        },
        "id": "2y-dVe_jbFon",
        "outputId": "cd0d9d15-bf44-4fd2-fb21-7ef1aabfddc4"
      },
      "source": [
        "bry = ary.astype('int32')\n",
        "bry"
      ],
      "execution_count": null,
      "outputs": [
        {
          "output_type": "execute_result",
          "data": {
            "text/plain": [
              "array([[1, 0],\n",
              "       [0, 1]], dtype=int32)"
            ]
          },
          "metadata": {},
          "execution_count": 15
        }
      ]
    },
    {
      "cell_type": "code",
      "metadata": {
        "colab": {
          "base_uri": "https://localhost:8080/"
        },
        "id": "3OP750_UbqZg",
        "outputId": "21ad8237-9226-4e2d-dcee-36717e2a2007"
      },
      "source": [
        "np.array([21, 32, None, 45])\n",
        "# This cannot be converted to numeric array"
      ],
      "execution_count": null,
      "outputs": [
        {
          "output_type": "execute_result",
          "data": {
            "text/plain": [
              "array([21, 32, None, 45], dtype=object)"
            ]
          },
          "metadata": {},
          "execution_count": 16
        }
      ]
    },
    {
      "cell_type": "code",
      "metadata": {
        "colab": {
          "base_uri": "https://localhost:8080/"
        },
        "id": "_WszzVIXcB2w",
        "outputId": "4810b027-4d69-4af9-89e0-b423f5408db8"
      },
      "source": [
        "ary = np.array([21, np.nan, 5, np.inf])\n",
        "ary, ary.dtype\n",
        "# Converting this to numeric array will replace nan and inf with random numbers"
      ],
      "execution_count": null,
      "outputs": [
        {
          "output_type": "execute_result",
          "data": {
            "text/plain": [
              "(array([21., nan,  5., inf]), dtype('float64'))"
            ]
          },
          "metadata": {},
          "execution_count": 17
        }
      ]
    },
    {
      "cell_type": "markdown",
      "metadata": {
        "id": "fLrEPZZrZWfA"
      },
      "source": [
        "# Selection and Projection"
      ]
    },
    {
      "cell_type": "markdown",
      "metadata": {
        "id": "zzrS6wx8QkPb"
      },
      "source": [
        "## Selection and Projection using Indexed Arrays"
      ]
    },
    {
      "cell_type": "markdown",
      "metadata": {
        "id": "XqYS_2hKOECf"
      },
      "source": [
        "### Get Rows using Indexed Array"
      ]
    },
    {
      "cell_type": "code",
      "metadata": {
        "colab": {
          "base_uri": "https://localhost:8080/"
        },
        "id": "8A-YRnqoOTOK",
        "outputId": "8a314442-1881-4434-a36a-18499278fd35"
      },
      "source": [
        "ary = np.array([[22,57,97,17],\n",
        "               [45,78,34,19],\n",
        "               [34,37,88,99]])\n",
        "idx = np.array([0,2])\n",
        "ary[idx]"
      ],
      "execution_count": null,
      "outputs": [
        {
          "output_type": "execute_result",
          "data": {
            "text/plain": [
              "array([[22, 57, 97, 17],\n",
              "       [34, 37, 88, 99]])"
            ]
          },
          "metadata": {},
          "execution_count": 18
        }
      ]
    },
    {
      "cell_type": "markdown",
      "metadata": {
        "id": "Sf4QeoG_Ox6V"
      },
      "source": [
        "### Get Columns using Indexed Array"
      ]
    },
    {
      "cell_type": "code",
      "metadata": {
        "colab": {
          "base_uri": "https://localhost:8080/"
        },
        "id": "L5q5UnAUOwOW",
        "outputId": "9a276696-e155-46e3-f139-b005db14019f"
      },
      "source": [
        "ary[:,idx]"
      ],
      "execution_count": null,
      "outputs": [
        {
          "output_type": "execute_result",
          "data": {
            "text/plain": [
              "array([[22, 97],\n",
              "       [45, 34],\n",
              "       [34, 88]])"
            ]
          },
          "metadata": {},
          "execution_count": 19
        }
      ]
    },
    {
      "cell_type": "markdown",
      "metadata": {
        "id": "yJgx2mvkYYzQ"
      },
      "source": [
        "## Selection and Projection using Masked Arrays"
      ]
    },
    {
      "cell_type": "markdown",
      "metadata": {
        "id": "KWyllbgWxDvU"
      },
      "source": [
        "### Get Elements using Mask"
      ]
    },
    {
      "cell_type": "code",
      "metadata": {
        "colab": {
          "base_uri": "https://localhost:8080/"
        },
        "id": "p7ddo43ndnWr",
        "outputId": "968d0ab2-15c6-47dc-b8c0-0391e6e303d1"
      },
      "source": [
        "ary = np.array([22,57,79,17])\n",
        "mask = np.array([False, True, True, False])\n",
        "ary[mask]"
      ],
      "execution_count": null,
      "outputs": [
        {
          "output_type": "execute_result",
          "data": {
            "text/plain": [
              "array([57, 79])"
            ]
          },
          "metadata": {},
          "execution_count": 20
        }
      ]
    },
    {
      "cell_type": "code",
      "metadata": {
        "colab": {
          "base_uri": "https://localhost:8080/"
        },
        "id": "cvk7Ul_MilXZ",
        "outputId": "ce9aa8a6-1eb6-403a-f281-81d081a84a99"
      },
      "source": [
        "ary = np.array([[22,57,97,17],\n",
        "               [45,78,34,19]])\n",
        "mask = np.array([[False, True, True, False],\n",
        "                 [False, True, False, True]])\n",
        "ary[mask]"
      ],
      "execution_count": null,
      "outputs": [
        {
          "output_type": "execute_result",
          "data": {
            "text/plain": [
              "array([57, 97, 78, 19])"
            ]
          },
          "metadata": {},
          "execution_count": 21
        }
      ]
    },
    {
      "cell_type": "markdown",
      "metadata": {
        "id": "ZoV2bXyXxQE8"
      },
      "source": [
        "### Get Rows using Mask"
      ]
    },
    {
      "cell_type": "code",
      "metadata": {
        "colab": {
          "base_uri": "https://localhost:8080/"
        },
        "id": "iosdMbuhjIIR",
        "outputId": "7d57f9f5-854b-4712-c9c6-0f9430becbbf"
      },
      "source": [
        "ary = np.array([[22,57,97,17],\n",
        "               [45,78,34,19]])\n",
        "mask = np.array([False, True])\n",
        "ary[mask]"
      ],
      "execution_count": null,
      "outputs": [
        {
          "output_type": "execute_result",
          "data": {
            "text/plain": [
              "array([[45, 78, 34, 19]])"
            ]
          },
          "metadata": {},
          "execution_count": 22
        }
      ]
    },
    {
      "cell_type": "markdown",
      "metadata": {
        "id": "_8Y2ias1xUAI"
      },
      "source": [
        "### Get Columns using Mask"
      ]
    },
    {
      "cell_type": "code",
      "metadata": {
        "colab": {
          "base_uri": "https://localhost:8080/"
        },
        "id": "daY7MO1njRXS",
        "outputId": "577c2b1c-324f-4e12-fe93-26d1c494e6a1"
      },
      "source": [
        "ary = np.array([[22,57,97,17],\n",
        "               [45,78,34,19]])\n",
        "mask = np.array([False, True, True, False])\n",
        "ary[:,mask]"
      ],
      "execution_count": null,
      "outputs": [
        {
          "output_type": "execute_result",
          "data": {
            "text/plain": [
              "array([[57, 97],\n",
              "       [78, 34]])"
            ]
          },
          "metadata": {},
          "execution_count": 23
        }
      ]
    },
    {
      "cell_type": "markdown",
      "metadata": {
        "id": "sTnqb2v44krn"
      },
      "source": [
        "### Negate Masked Matrix"
      ]
    },
    {
      "cell_type": "code",
      "metadata": {
        "colab": {
          "base_uri": "https://localhost:8080/"
        },
        "id": "2UaXwztK4prr",
        "outputId": "fb9533b1-80a0-4201-c022-39e48e907b6f"
      },
      "source": [
        "mask = np.array([[False, True, True, False],\n",
        "                 [True, False, True, False]])\n",
        "~mask"
      ],
      "execution_count": null,
      "outputs": [
        {
          "output_type": "execute_result",
          "data": {
            "text/plain": [
              "array([[ True, False, False,  True],\n",
              "       [False,  True, False,  True]])"
            ]
          },
          "metadata": {},
          "execution_count": 24
        }
      ]
    },
    {
      "cell_type": "markdown",
      "metadata": {
        "id": "enn9iBrQxLwt"
      },
      "source": [
        "## Get Mask Indices"
      ]
    },
    {
      "cell_type": "code",
      "metadata": {
        "id": "X63CNJfFxlMe",
        "outputId": "250ce483-aaa6-4a59-ae37-9a4e71307a40",
        "colab": {
          "base_uri": "https://localhost:8080/"
        }
      },
      "source": [
        "mask = np.array([False, True, True, False])\n",
        "print(np.where(mask), np.argwhere(mask), sep='\\n')"
      ],
      "execution_count": 87,
      "outputs": [
        {
          "output_type": "stream",
          "name": "stdout",
          "text": [
            "(array([1, 2]),)\n",
            "[[1]\n",
            " [2]]\n"
          ]
        }
      ]
    },
    {
      "cell_type": "code",
      "metadata": {
        "id": "cN6h1rT6xvVv",
        "outputId": "4b2bd97d-e6a3-464c-c803-474ca07da5a7",
        "colab": {
          "base_uri": "https://localhost:8080/"
        }
      },
      "source": [
        "mask = np.array([[False, True, True, False],\n",
        "                 [True, False, True, False]])\n",
        "print(np.where(mask), np.argwhere(mask), sep='\\n')"
      ],
      "execution_count": 91,
      "outputs": [
        {
          "output_type": "stream",
          "name": "stdout",
          "text": [
            "(array([0, 0, 1, 1]), array([1, 2, 0, 2]))\n",
            "[[0 1]\n",
            " [0 2]\n",
            " [1 0]\n",
            " [1 2]]\n"
          ]
        }
      ]
    },
    {
      "cell_type": "markdown",
      "metadata": {
        "id": "tFcGgfXkDsKm"
      },
      "source": [
        "## Selection based on the Conditions"
      ]
    },
    {
      "cell_type": "markdown",
      "metadata": {
        "id": "daBXKCNlueMT"
      },
      "source": [
        "### Select the elements matching the condition"
      ]
    },
    {
      "cell_type": "code",
      "metadata": {
        "colab": {
          "base_uri": "https://localhost:8080/"
        },
        "id": "a8qLeKOH-OJs",
        "outputId": "cd45446e-285e-404f-be13-2a1220912dd0"
      },
      "source": [
        "ary = np.array([[11, 22, 33, 44],\n",
        "                [55, 66, 77, 88],\n",
        "                [12, 23, 78, 99]])\n",
        "print(ary > 22, ary[ary > 22], sep='\\n')"
      ],
      "execution_count": null,
      "outputs": [
        {
          "output_type": "stream",
          "name": "stdout",
          "text": [
            "[[False False  True  True]\n",
            " [ True  True  True  True]\n",
            " [False  True  True  True]]\n",
            "[33 44 55 66 77 88 23 78 99]\n"
          ]
        }
      ]
    },
    {
      "cell_type": "markdown",
      "metadata": {
        "id": "MRPSN2LfmQEp"
      },
      "source": [
        "### Select the row if the corresponding column has a value matching the condition"
      ]
    },
    {
      "cell_type": "code",
      "metadata": {
        "id": "kSvC92w-iaN0",
        "colab": {
          "base_uri": "https://localhost:8080/"
        },
        "outputId": "fd67b192-7c9d-4c51-dcee-85d86b118ce7"
      },
      "source": [
        "ary = np.array([[11, 22, 33, 44],\n",
        "                [55, 66, 77, 88],\n",
        "                [12, 23, 78, 99]])\n",
        "mask = ary[:, 1] > 22\n",
        "print(mask, ary[mask], sep='\\n')"
      ],
      "execution_count": null,
      "outputs": [
        {
          "output_type": "stream",
          "name": "stdout",
          "text": [
            "[False  True  True]\n",
            "[[55 66 77 88]\n",
            " [12 23 78 99]]\n"
          ]
        }
      ]
    },
    {
      "cell_type": "markdown",
      "metadata": {
        "id": "EqS6O-tUsock"
      },
      "source": [
        "### Select the row if it has any value matching the condition"
      ]
    },
    {
      "cell_type": "code",
      "metadata": {
        "id": "LhcWNU4vrmZ9",
        "colab": {
          "base_uri": "https://localhost:8080/"
        },
        "outputId": "1b82bd25-e533-434e-c023-ab5c8a1f6009"
      },
      "source": [
        "ary = np.array([[11, 22, 33, 44],\n",
        "                [55, 66, 77, 88],\n",
        "                [12, 23, 78, 99]])\n",
        "mask = np.any(ary < 23, axis=1)\n",
        "print(mask, ary[mask,:], sep='\\n')"
      ],
      "execution_count": null,
      "outputs": [
        {
          "output_type": "stream",
          "name": "stdout",
          "text": [
            "[ True False  True]\n",
            "[[11 22 33 44]\n",
            " [12 23 78 99]]\n"
          ]
        }
      ]
    },
    {
      "cell_type": "markdown",
      "metadata": {
        "id": "fT8SzFy4miy5"
      },
      "source": [
        "### Select the column if it has any value matching the condition"
      ]
    },
    {
      "cell_type": "code",
      "metadata": {
        "id": "8GMM5lXkmoNw",
        "colab": {
          "base_uri": "https://localhost:8080/"
        },
        "outputId": "820cdfb4-6107-4f1a-965d-a76fa2acf5b2"
      },
      "source": [
        "ary = np.array([[11, 22, 33, 44],\n",
        "                [55, 66, 77, 88],\n",
        "                [12, 23, 78, 99]])\n",
        "mask = np.any(ary < 23, axis=0)\n",
        "print(mask, ary[:,mask], sep='\\n')"
      ],
      "execution_count": null,
      "outputs": [
        {
          "output_type": "stream",
          "name": "stdout",
          "text": [
            "[ True  True False False]\n",
            "[[11 22]\n",
            " [55 66]\n",
            " [12 23]]\n"
          ]
        }
      ]
    },
    {
      "cell_type": "markdown",
      "metadata": {
        "id": "au8VOEUqb1T5"
      },
      "source": [
        "# Missing Values: None, np.nan, np.inf"
      ]
    },
    {
      "cell_type": "markdown",
      "metadata": {
        "id": "C6ZqkDinc9zh"
      },
      "source": [
        "## Test for nan and inf"
      ]
    },
    {
      "cell_type": "code",
      "metadata": {
        "colab": {
          "base_uri": "https://localhost:8080/"
        },
        "id": "ybgYY_whcGMY",
        "outputId": "77fd040c-5fa5-4c63-e875-0686083f33fc"
      },
      "source": [
        "np.nan == np.nan, np.nan is np.nan, np.nan in [np.nan]"
      ],
      "execution_count": null,
      "outputs": [
        {
          "output_type": "execute_result",
          "data": {
            "text/plain": [
              "(False, True, True)"
            ]
          },
          "metadata": {},
          "execution_count": 28
        }
      ]
    },
    {
      "cell_type": "code",
      "metadata": {
        "colab": {
          "base_uri": "https://localhost:8080/"
        },
        "id": "IqT8qw_odK8u",
        "outputId": "246604b5-f0ac-4193-e83f-deb86f7ae9b1"
      },
      "source": [
        "np.inf == np.inf, np.inf is np.inf, np.inf in [np.inf]"
      ],
      "execution_count": null,
      "outputs": [
        {
          "output_type": "execute_result",
          "data": {
            "text/plain": [
              "(True, True, True)"
            ]
          },
          "metadata": {},
          "execution_count": 29
        }
      ]
    },
    {
      "cell_type": "code",
      "metadata": {
        "colab": {
          "base_uri": "https://localhost:8080/"
        },
        "id": "kl0JlwmkdOJW",
        "outputId": "61418b12-6fca-4ac1-c5c4-9b3065de510d"
      },
      "source": [
        "None == None, None is None, None in [None]"
      ],
      "execution_count": null,
      "outputs": [
        {
          "output_type": "execute_result",
          "data": {
            "text/plain": [
              "(True, True, True)"
            ]
          },
          "metadata": {},
          "execution_count": 30
        }
      ]
    },
    {
      "cell_type": "markdown",
      "metadata": {
        "id": "VT0TIk8zx-Xl"
      },
      "source": [
        "## Select nan, inf"
      ]
    },
    {
      "cell_type": "code",
      "metadata": {
        "id": "wMkDHqoQyLrE"
      },
      "source": [
        "ary = np.array([\n",
        "  [ 1.     , 87.     , 57.54435],\n",
        "  [ 2.     ,  8.     ,  7.31704],\n",
        "  [ 3.     , 56.     , 56.82095],\n",
        "  [ 4.     , 63.     , 64.15579],\n",
        "  [ 5.     , np.nan  ,  5.74522],\n",
        "  [ 6.     , 45.     , 19.56758],\n",
        "  [ np.inf , 43.     , 39.62271],\n",
        "  [ 8.     , 47.     , 34.95107],\n",
        "  [ 9.     ,  2.     ,   np.nan],\n",
        "  [10.     , 79.     , 36.41022],\n",
        "  [11.     , 67.     , 49.83894],\n",
        "  [12.     , 24.     ,   np.inf]])"
      ],
      "execution_count": null,
      "outputs": []
    },
    {
      "cell_type": "code",
      "metadata": {
        "colab": {
          "base_uri": "https://localhost:8080/"
        },
        "id": "N6YtJT_WzDff",
        "outputId": "8e122cc8-09f6-4392-ffc8-a38d205a4707"
      },
      "source": [
        "np.isnan(ary)"
      ],
      "execution_count": null,
      "outputs": [
        {
          "output_type": "execute_result",
          "data": {
            "text/plain": [
              "array([[False, False, False],\n",
              "       [False, False, False],\n",
              "       [False, False, False],\n",
              "       [False, False, False],\n",
              "       [False,  True, False],\n",
              "       [False, False, False],\n",
              "       [False, False, False],\n",
              "       [False, False, False],\n",
              "       [False, False,  True],\n",
              "       [False, False, False],\n",
              "       [False, False, False],\n",
              "       [False, False, False]])"
            ]
          },
          "metadata": {},
          "execution_count": 32
        }
      ]
    },
    {
      "cell_type": "code",
      "metadata": {
        "colab": {
          "base_uri": "https://localhost:8080/"
        },
        "id": "kKr2zJqgzcSI",
        "outputId": "3e7f8084-018d-44a0-cfac-8c109dc183b9"
      },
      "source": [
        "np.isinf(ary)"
      ],
      "execution_count": null,
      "outputs": [
        {
          "output_type": "execute_result",
          "data": {
            "text/plain": [
              "array([[False, False, False],\n",
              "       [False, False, False],\n",
              "       [False, False, False],\n",
              "       [False, False, False],\n",
              "       [False, False, False],\n",
              "       [False, False, False],\n",
              "       [ True, False, False],\n",
              "       [False, False, False],\n",
              "       [False, False, False],\n",
              "       [False, False, False],\n",
              "       [False, False, False],\n",
              "       [False, False,  True]])"
            ]
          },
          "metadata": {},
          "execution_count": 33
        }
      ]
    },
    {
      "cell_type": "code",
      "metadata": {
        "id": "OnfTo24kdy9U",
        "colab": {
          "base_uri": "https://localhost:8080/"
        },
        "outputId": "dd900e1b-91f3-4a88-d410-59ad78b872dc"
      },
      "source": [
        "np.isnan(ary).any(axis=1) #Rows with np.nan"
      ],
      "execution_count": null,
      "outputs": [
        {
          "output_type": "execute_result",
          "data": {
            "text/plain": [
              "array([False, False, False, False,  True, False, False, False,  True,\n",
              "       False, False, False])"
            ]
          },
          "metadata": {},
          "execution_count": 41
        }
      ]
    },
    {
      "cell_type": "code",
      "metadata": {
        "id": "lLerOcRGd3od",
        "colab": {
          "base_uri": "https://localhost:8080/"
        },
        "outputId": "0d97ae80-9265-4e1c-a325-e5d7074f11c6"
      },
      "source": [
        "np.isnan(ary).any(axis=0) #Columns with np.nan"
      ],
      "execution_count": null,
      "outputs": [
        {
          "output_type": "execute_result",
          "data": {
            "text/plain": [
              "array([False,  True,  True])"
            ]
          },
          "metadata": {},
          "execution_count": 44
        }
      ]
    },
    {
      "cell_type": "code",
      "metadata": {
        "id": "E2XXSN2deipP",
        "colab": {
          "base_uri": "https://localhost:8080/"
        },
        "outputId": "c563f1bc-91c6-47c2-a7b0-056e03b8d7e3"
      },
      "source": [
        "ary[np.isnan(ary).any(axis=1)]"
      ],
      "execution_count": null,
      "outputs": [
        {
          "output_type": "execute_result",
          "data": {
            "text/plain": [
              "array([[5.     ,     nan, 5.74522],\n",
              "       [9.     , 2.     ,     nan]])"
            ]
          },
          "metadata": {},
          "execution_count": 45
        }
      ]
    },
    {
      "cell_type": "code",
      "metadata": {
        "id": "8KAN3_QGfOx0",
        "colab": {
          "base_uri": "https://localhost:8080/"
        },
        "outputId": "e41a0850-f7bd-4f8c-b21e-4f54b5577f17"
      },
      "source": [
        "ary[:,np.isnan(ary).any(axis=0)]"
      ],
      "execution_count": null,
      "outputs": [
        {
          "output_type": "execute_result",
          "data": {
            "text/plain": [
              "array([[87.     , 57.54435],\n",
              "       [ 8.     ,  7.31704],\n",
              "       [56.     , 56.82095],\n",
              "       [63.     , 64.15579],\n",
              "       [     nan,  5.74522],\n",
              "       [45.     , 19.56758],\n",
              "       [43.     , 39.62271],\n",
              "       [47.     , 34.95107],\n",
              "       [ 2.     ,      nan],\n",
              "       [79.     , 36.41022],\n",
              "       [67.     , 49.83894],\n",
              "       [24.     ,      inf]])"
            ]
          },
          "metadata": {},
          "execution_count": 49
        }
      ]
    },
    {
      "cell_type": "code",
      "metadata": {
        "id": "Xc0Md7qkfSr-"
      },
      "source": [
        ""
      ],
      "execution_count": null,
      "outputs": []
    }
  ]
}