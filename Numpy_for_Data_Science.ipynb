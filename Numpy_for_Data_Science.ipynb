{
  "nbformat": 4,
  "nbformat_minor": 0,
  "metadata": {
    "colab": {
      "name": "Numpy for Data Science.ipynb",
      "provenance": [],
      "collapsed_sections": [
        "oN0T_fKmYYyB",
        "h1smzhqBYkuU",
        "8LLBFaDxYqv-"
      ],
      "toc_visible": true,
      "include_colab_link": true
    },
    "kernelspec": {
      "name": "python3",
      "display_name": "Python 3"
    },
    "language_info": {
      "name": "python"
    }
  },
  "cells": [
    {
      "cell_type": "markdown",
      "metadata": {
        "id": "view-in-github",
        "colab_type": "text"
      },
      "source": [
        "<a href=\"https://colab.research.google.com/github/patelsaumya/python-libraries/blob/main/Numpy_for_Data_Science.ipynb\" target=\"_parent\"><img src=\"https://colab.research.google.com/assets/colab-badge.svg\" alt=\"Open In Colab\"/></a>"
      ]
    },
    {
      "cell_type": "code",
      "metadata": {
        "id": "22q_T1NAUOgq"
      },
      "source": [
        "import numpy as np"
      ],
      "execution_count": 1,
      "outputs": []
    },
    {
      "cell_type": "markdown",
      "metadata": {
        "id": "N6-SzvblTzkm"
      },
      "source": [
        "# Creating Arrays"
      ]
    },
    {
      "cell_type": "markdown",
      "metadata": {
        "id": "q5syUGmMUD-t"
      },
      "source": [
        "#### Explicitly Initialized Arrays\n"
      ]
    },
    {
      "cell_type": "code",
      "metadata": {
        "colab": {
          "base_uri": "https://localhost:8080/"
        },
        "id": "Mc7r6ks3UGI4",
        "outputId": "679d3242-d92b-40cb-ccde-030ccb3d5160"
      },
      "source": [
        "ary = np.array([45,87,34, 5])\n",
        "ary, ary.dtype, ary.ndim, ary.shape, ary.size, ary[2]"
      ],
      "execution_count": 2,
      "outputs": [
        {
          "output_type": "execute_result",
          "data": {
            "text/plain": [
              "(array([45, 87, 34,  5]), dtype('int64'), 1, (4,), 4, 34)"
            ]
          },
          "metadata": {},
          "execution_count": 2
        }
      ]
    },
    {
      "cell_type": "code",
      "metadata": {
        "colab": {
          "base_uri": "https://localhost:8080/"
        },
        "id": "mbo-setTUVyj",
        "outputId": "1fbd8d9d-23a8-4863-a776-617f37a49f62"
      },
      "source": [
        "ary = np.array([[44,6,78,34],[23,78,90,78]], dtype='int32')\n",
        "ary, ary.dtype, ary.ndim, ary.shape, ary.size, ary[1,3]"
      ],
      "execution_count": 3,
      "outputs": [
        {
          "output_type": "execute_result",
          "data": {
            "text/plain": [
              "(array([[44,  6, 78, 34],\n",
              "        [23, 78, 90, 78]], dtype=int32), dtype('int32'), 2, (2, 4), 8, 78)"
            ]
          },
          "metadata": {},
          "execution_count": 3
        }
      ]
    },
    {
      "cell_type": "markdown",
      "metadata": {
        "id": "JWQhV7kPVfIR"
      },
      "source": [
        "#### Create Identity Matrix\n"
      ]
    },
    {
      "cell_type": "code",
      "metadata": {
        "colab": {
          "base_uri": "https://localhost:8080/"
        },
        "id": "6WRAXp2UW3Fs",
        "outputId": "67f3aa26-ec4b-4e98-d756-8f0e527c0fa1"
      },
      "source": [
        "np.eye(1)"
      ],
      "execution_count": 4,
      "outputs": [
        {
          "output_type": "execute_result",
          "data": {
            "text/plain": [
              "array([[1.]])"
            ]
          },
          "metadata": {},
          "execution_count": 4
        }
      ]
    },
    {
      "cell_type": "code",
      "metadata": {
        "colab": {
          "base_uri": "https://localhost:8080/"
        },
        "id": "uZ5-BIWdW6Nq",
        "outputId": "587c5936-87a3-458c-fa71-221ff0cbaf60"
      },
      "source": [
        "np.eye(3)"
      ],
      "execution_count": 5,
      "outputs": [
        {
          "output_type": "execute_result",
          "data": {
            "text/plain": [
              "array([[1., 0., 0.],\n",
              "       [0., 1., 0.],\n",
              "       [0., 0., 1.]])"
            ]
          },
          "metadata": {},
          "execution_count": 5
        }
      ]
    },
    {
      "cell_type": "markdown",
      "metadata": {
        "id": "oN0T_fKmYYyB"
      },
      "source": [
        "#### Diagonal Matrix"
      ]
    },
    {
      "cell_type": "markdown",
      "metadata": {
        "id": "h1smzhqBYkuU"
      },
      "source": [
        "###### Create Diagonal Matrix"
      ]
    },
    {
      "cell_type": "code",
      "metadata": {
        "colab": {
          "base_uri": "https://localhost:8080/"
        },
        "id": "C6s8UicmYdDW",
        "outputId": "6b49c5a0-ecce-412b-9e4c-fa0dc3ce0a70"
      },
      "source": [
        "np.diag([1,5,7])"
      ],
      "execution_count": 6,
      "outputs": [
        {
          "output_type": "execute_result",
          "data": {
            "text/plain": [
              "array([[1, 0, 0],\n",
              "       [0, 5, 0],\n",
              "       [0, 0, 7]])"
            ]
          },
          "metadata": {},
          "execution_count": 6
        }
      ]
    },
    {
      "cell_type": "markdown",
      "metadata": {
        "id": "8LLBFaDxYqv-"
      },
      "source": [
        "###### Extract Diagonal from a given Matrix"
      ]
    },
    {
      "cell_type": "code",
      "metadata": {
        "colab": {
          "base_uri": "https://localhost:8080/"
        },
        "id": "Co5xBtRqY3Z_",
        "outputId": "2ef34503-dd52-42e9-b3b4-0af05e9117d2"
      },
      "source": [
        "ary = np.array([[23,14,65], [345,78,90]])\n",
        "np.diag(ary)"
      ],
      "execution_count": 7,
      "outputs": [
        {
          "output_type": "execute_result",
          "data": {
            "text/plain": [
              "array([23, 78])"
            ]
          },
          "metadata": {},
          "execution_count": 7
        }
      ]
    },
    {
      "cell_type": "markdown",
      "metadata": {
        "id": "eNQs4d4aaLrf"
      },
      "source": [
        "#### Create Matrix of ones, zeros, empty, full w/wo like"
      ]
    },
    {
      "cell_type": "markdown",
      "metadata": {
        "id": "Fa0H2RkhW81j"
      },
      "source": [
        "###### Without like i.e. using specific shape"
      ]
    },
    {
      "cell_type": "code",
      "metadata": {
        "colab": {
          "base_uri": "https://localhost:8080/"
        },
        "id": "GzY6DYaEWT_R",
        "outputId": "6abb7c41-6284-4717-e4b8-91efeb6398a9"
      },
      "source": [
        "np.ones((2,3))"
      ],
      "execution_count": 8,
      "outputs": [
        {
          "output_type": "execute_result",
          "data": {
            "text/plain": [
              "array([[1., 1., 1.],\n",
              "       [1., 1., 1.]])"
            ]
          },
          "metadata": {},
          "execution_count": 8
        }
      ]
    },
    {
      "cell_type": "code",
      "metadata": {
        "colab": {
          "base_uri": "https://localhost:8080/"
        },
        "id": "OOmGe9h-XL3B",
        "outputId": "8e5e01e0-8385-4554-b956-8fdc0ab87ba2"
      },
      "source": [
        "np.zeros((2,3))"
      ],
      "execution_count": 9,
      "outputs": [
        {
          "output_type": "execute_result",
          "data": {
            "text/plain": [
              "array([[0., 0., 0.],\n",
              "       [0., 0., 0.]])"
            ]
          },
          "metadata": {},
          "execution_count": 9
        }
      ]
    },
    {
      "cell_type": "code",
      "metadata": {
        "colab": {
          "base_uri": "https://localhost:8080/"
        },
        "id": "li1_KYrlXN8I",
        "outputId": "614f8c70-1fea-424d-aa47-ff110a35835c"
      },
      "source": [
        "np.empty((2,3))"
      ],
      "execution_count": 10,
      "outputs": [
        {
          "output_type": "execute_result",
          "data": {
            "text/plain": [
              "array([[0., 0., 0.],\n",
              "       [0., 0., 0.]])"
            ]
          },
          "metadata": {},
          "execution_count": 10
        }
      ]
    },
    {
      "cell_type": "code",
      "metadata": {
        "colab": {
          "base_uri": "https://localhost:8080/"
        },
        "id": "QYNzQ5m2XTVp",
        "outputId": "236c1207-d218-412b-eb32-7304ce08d755"
      },
      "source": [
        "np.full((2,3), 5)"
      ],
      "execution_count": 11,
      "outputs": [
        {
          "output_type": "execute_result",
          "data": {
            "text/plain": [
              "array([[5, 5, 5],\n",
              "       [5, 5, 5]])"
            ]
          },
          "metadata": {},
          "execution_count": 11
        }
      ]
    },
    {
      "cell_type": "markdown",
      "metadata": {
        "id": "FUVL_6znXfEo"
      },
      "source": [
        "###### Using shape of other matrix i.e. with like"
      ]
    },
    {
      "cell_type": "code",
      "metadata": {
        "colab": {
          "base_uri": "https://localhost:8080/"
        },
        "id": "Hs7xVvuHXWYj",
        "outputId": "7f75c6b7-8b80-4241-8304-56b3849d3317"
      },
      "source": [
        "ary = np.array([[23,14,65], [345,78,90]])\n",
        "np.ones_like(ary)"
      ],
      "execution_count": 12,
      "outputs": [
        {
          "output_type": "execute_result",
          "data": {
            "text/plain": [
              "array([[1, 1, 1],\n",
              "       [1, 1, 1]])"
            ]
          },
          "metadata": {},
          "execution_count": 12
        }
      ]
    },
    {
      "cell_type": "code",
      "metadata": {
        "colab": {
          "base_uri": "https://localhost:8080/"
        },
        "id": "AeGHVMMeX80S",
        "outputId": "c90278b1-ee8b-42e5-8e2f-ffe179b5f273"
      },
      "source": [
        "# Use with Caution\n",
        "np.empty_like(ary)"
      ],
      "execution_count": 13,
      "outputs": [
        {
          "output_type": "execute_result",
          "data": {
            "text/plain": [
              "array([[94048653417264,              0,              0],\n",
              "       [             0,              0,              0]])"
            ]
          },
          "metadata": {},
          "execution_count": 13
        }
      ]
    },
    {
      "cell_type": "markdown",
      "metadata": {
        "id": "vEYqfywvazZQ"
      },
      "source": [
        "# Converting DataType of Arrays"
      ]
    },
    {
      "cell_type": "code",
      "metadata": {
        "colab": {
          "base_uri": "https://localhost:8080/"
        },
        "id": "wncuaxLia7pV",
        "outputId": "1aeb220b-dc08-481a-fea3-9bc517b26203"
      },
      "source": [
        "ary = np.eye(2)\n",
        "ary, ary.dtype"
      ],
      "execution_count": 14,
      "outputs": [
        {
          "output_type": "execute_result",
          "data": {
            "text/plain": [
              "(array([[1., 0.],\n",
              "        [0., 1.]]), dtype('float64'))"
            ]
          },
          "metadata": {},
          "execution_count": 14
        }
      ]
    },
    {
      "cell_type": "code",
      "metadata": {
        "colab": {
          "base_uri": "https://localhost:8080/"
        },
        "id": "2y-dVe_jbFon",
        "outputId": "57a8080f-3b99-49d0-dbed-4e30e8e1f26c"
      },
      "source": [
        "bry = ary.astype('int32')\n",
        "bry"
      ],
      "execution_count": 15,
      "outputs": [
        {
          "output_type": "execute_result",
          "data": {
            "text/plain": [
              "array([[1, 0],\n",
              "       [0, 1]], dtype=int32)"
            ]
          },
          "metadata": {},
          "execution_count": 15
        }
      ]
    },
    {
      "cell_type": "code",
      "metadata": {
        "colab": {
          "base_uri": "https://localhost:8080/"
        },
        "id": "3OP750_UbqZg",
        "outputId": "7b8a64aa-a55d-4c8c-e87e-83c25a3ae81e"
      },
      "source": [
        "np.array([21, 32, None, 45])\n",
        "# This cannot be converted to numeric array"
      ],
      "execution_count": 16,
      "outputs": [
        {
          "output_type": "execute_result",
          "data": {
            "text/plain": [
              "array([21, 32, None, 45], dtype=object)"
            ]
          },
          "metadata": {},
          "execution_count": 16
        }
      ]
    },
    {
      "cell_type": "code",
      "metadata": {
        "colab": {
          "base_uri": "https://localhost:8080/"
        },
        "id": "_WszzVIXcB2w",
        "outputId": "46e18702-ef13-418c-c2fc-9d6db192dd6c"
      },
      "source": [
        "ary = np.array([21, np.nan, 5, np.inf])\n",
        "ary, ary.dtype\n",
        "# Converting this to numeric array will replace nan and inf with random numbers"
      ],
      "execution_count": 17,
      "outputs": [
        {
          "output_type": "execute_result",
          "data": {
            "text/plain": [
              "(array([21., nan,  5., inf]), dtype('float64'))"
            ]
          },
          "metadata": {},
          "execution_count": 17
        }
      ]
    },
    {
      "cell_type": "markdown",
      "metadata": {
        "id": "fLrEPZZrZWfA"
      },
      "source": [
        "# Selection and Projection"
      ]
    },
    {
      "cell_type": "markdown",
      "metadata": {
        "id": "zzrS6wx8QkPb"
      },
      "source": [
        "#### Selection and Projection using Indexed Arrays"
      ]
    },
    {
      "cell_type": "markdown",
      "metadata": {
        "id": "XqYS_2hKOECf"
      },
      "source": [
        "###### Get Rows using Indexed Array"
      ]
    },
    {
      "cell_type": "code",
      "metadata": {
        "colab": {
          "base_uri": "https://localhost:8080/"
        },
        "id": "8A-YRnqoOTOK",
        "outputId": "a11d18ba-8b26-4bdc-b6f3-988abdd9d6d4"
      },
      "source": [
        "ary = np.array([[22,57,97,17],\n",
        "               [45,78,34,19],\n",
        "               [34,37,88,99]])\n",
        "idx = np.array([0,2])\n",
        "ary[idx]"
      ],
      "execution_count": 18,
      "outputs": [
        {
          "output_type": "execute_result",
          "data": {
            "text/plain": [
              "array([[22, 57, 97, 17],\n",
              "       [34, 37, 88, 99]])"
            ]
          },
          "metadata": {},
          "execution_count": 18
        }
      ]
    },
    {
      "cell_type": "markdown",
      "metadata": {
        "id": "Sf4QeoG_Ox6V"
      },
      "source": [
        "###### Get Columns using Indexed Array"
      ]
    },
    {
      "cell_type": "code",
      "metadata": {
        "colab": {
          "base_uri": "https://localhost:8080/"
        },
        "id": "L5q5UnAUOwOW",
        "outputId": "1fe1588c-d8e7-414a-9814-5c68e52d2112"
      },
      "source": [
        "ary[:,idx]"
      ],
      "execution_count": 19,
      "outputs": [
        {
          "output_type": "execute_result",
          "data": {
            "text/plain": [
              "array([[22, 97],\n",
              "       [45, 34],\n",
              "       [34, 88]])"
            ]
          },
          "metadata": {},
          "execution_count": 19
        }
      ]
    },
    {
      "cell_type": "markdown",
      "metadata": {
        "id": "yJgx2mvkYYzQ"
      },
      "source": [
        "#### Selection and Projection using Masked Arrays"
      ]
    },
    {
      "cell_type": "markdown",
      "metadata": {
        "id": "KWyllbgWxDvU"
      },
      "source": [
        "###### Get Elements using Mask"
      ]
    },
    {
      "cell_type": "code",
      "metadata": {
        "colab": {
          "base_uri": "https://localhost:8080/"
        },
        "id": "p7ddo43ndnWr",
        "outputId": "9eed273e-1ae1-44ce-db76-96261058f4e7"
      },
      "source": [
        "ary = np.array([22,57,79,17])\n",
        "mask = np.array([False, True, True, False])\n",
        "ary[mask]"
      ],
      "execution_count": 20,
      "outputs": [
        {
          "output_type": "execute_result",
          "data": {
            "text/plain": [
              "array([57, 79])"
            ]
          },
          "metadata": {},
          "execution_count": 20
        }
      ]
    },
    {
      "cell_type": "code",
      "metadata": {
        "colab": {
          "base_uri": "https://localhost:8080/"
        },
        "id": "cvk7Ul_MilXZ",
        "outputId": "b05d306e-9ddf-46f1-cb8a-5ac833cfa06a"
      },
      "source": [
        "ary = np.array([[22,57,97,17],\n",
        "               [45,78,34,19]])\n",
        "mask = np.array([[False, True, True, False],\n",
        "                 [False, True, False, True]])\n",
        "ary[mask]"
      ],
      "execution_count": 21,
      "outputs": [
        {
          "output_type": "execute_result",
          "data": {
            "text/plain": [
              "array([57, 97, 78, 19])"
            ]
          },
          "metadata": {},
          "execution_count": 21
        }
      ]
    },
    {
      "cell_type": "markdown",
      "metadata": {
        "id": "ZoV2bXyXxQE8"
      },
      "source": [
        "###### Get Rows using Mask"
      ]
    },
    {
      "cell_type": "code",
      "metadata": {
        "colab": {
          "base_uri": "https://localhost:8080/"
        },
        "id": "iosdMbuhjIIR",
        "outputId": "fef905e4-0f15-4de1-d362-fdd101c44b7c"
      },
      "source": [
        "ary = np.array([[22,57,97,17],\n",
        "               [45,78,34,19]])\n",
        "mask = np.array([False, True])\n",
        "ary[mask]"
      ],
      "execution_count": 22,
      "outputs": [
        {
          "output_type": "execute_result",
          "data": {
            "text/plain": [
              "array([[45, 78, 34, 19]])"
            ]
          },
          "metadata": {},
          "execution_count": 22
        }
      ]
    },
    {
      "cell_type": "markdown",
      "metadata": {
        "id": "_8Y2ias1xUAI"
      },
      "source": [
        "###### Get Columns using Mask"
      ]
    },
    {
      "cell_type": "code",
      "metadata": {
        "colab": {
          "base_uri": "https://localhost:8080/"
        },
        "id": "daY7MO1njRXS",
        "outputId": "cb0fd601-71ce-4019-a155-34e726673e2b"
      },
      "source": [
        "ary = np.array([[22,57,97,17],\n",
        "               [45,78,34,19]])\n",
        "mask = np.array([False, True, True, False])\n",
        "ary[:,mask]"
      ],
      "execution_count": 23,
      "outputs": [
        {
          "output_type": "execute_result",
          "data": {
            "text/plain": [
              "array([[57, 97],\n",
              "       [78, 34]])"
            ]
          },
          "metadata": {},
          "execution_count": 23
        }
      ]
    },
    {
      "cell_type": "markdown",
      "metadata": {
        "id": "sTnqb2v44krn"
      },
      "source": [
        "###### Negate Masked Matrix"
      ]
    },
    {
      "cell_type": "code",
      "metadata": {
        "colab": {
          "base_uri": "https://localhost:8080/"
        },
        "id": "2UaXwztK4prr",
        "outputId": "b59048fe-c68d-48ca-f477-eef829e7a31d"
      },
      "source": [
        "mask = np.array([[False, True, True, False],\n",
        "                 [True, False, True, False]])\n",
        "~mask"
      ],
      "execution_count": 24,
      "outputs": [
        {
          "output_type": "execute_result",
          "data": {
            "text/plain": [
              "array([[ True, False, False,  True],\n",
              "       [False,  True, False,  True]])"
            ]
          },
          "metadata": {},
          "execution_count": 24
        }
      ]
    },
    {
      "cell_type": "markdown",
      "metadata": {
        "id": "tFcGgfXkDsKm"
      },
      "source": [
        "###### Create Masked Arrays using Conditions"
      ]
    },
    {
      "cell_type": "code",
      "metadata": {
        "colab": {
          "base_uri": "https://localhost:8080/"
        },
        "id": "a8qLeKOH-OJs",
        "outputId": "67abf480-aea2-4127-ca45-4229ee07475c"
      },
      "source": [
        "ary = np.array([[11, 22, 33, 44],\n",
        "                [55, 66, 77, 88]])\n",
        "ary > 2"
      ],
      "execution_count": 34,
      "outputs": [
        {
          "output_type": "execute_result",
          "data": {
            "text/plain": [
              "array([[ True,  True,  True,  True],\n",
              "       [ True,  True,  True,  True]])"
            ]
          },
          "metadata": {},
          "execution_count": 34
        }
      ]
    },
    {
      "cell_type": "markdown",
      "metadata": {
        "id": "4jXcOaHA077P"
      },
      "source": [
        "###### Get Masked Indices"
      ]
    },
    {
      "cell_type": "code",
      "metadata": {
        "colab": {
          "base_uri": "https://localhost:8080/"
        },
        "id": "aWTpsbBB1Idv",
        "outputId": "8cd47b5d-400d-419e-c5b9-71d593760b34"
      },
      "source": [
        "mask = np.array([False, True, True, False])\n",
        "np.where(mask)"
      ],
      "execution_count": 26,
      "outputs": [
        {
          "output_type": "execute_result",
          "data": {
            "text/plain": [
              "(array([1, 2]),)"
            ]
          },
          "metadata": {},
          "execution_count": 26
        }
      ]
    },
    {
      "cell_type": "code",
      "metadata": {
        "colab": {
          "base_uri": "https://localhost:8080/"
        },
        "id": "YTQz1DQJ1XW_",
        "outputId": "035b8b27-f0d0-4bdf-a295-199f5476e138"
      },
      "source": [
        "np.argwhere(mask)"
      ],
      "execution_count": 27,
      "outputs": [
        {
          "output_type": "execute_result",
          "data": {
            "text/plain": [
              "array([[1],\n",
              "       [2]])"
            ]
          },
          "metadata": {},
          "execution_count": 27
        }
      ]
    },
    {
      "cell_type": "markdown",
      "metadata": {
        "id": "au8VOEUqb1T5"
      },
      "source": [
        "# Missing Values: None, np.nan, np.inf"
      ]
    },
    {
      "cell_type": "markdown",
      "metadata": {
        "id": "C6ZqkDinc9zh"
      },
      "source": [
        "#### Test for nan and inf"
      ]
    },
    {
      "cell_type": "code",
      "metadata": {
        "colab": {
          "base_uri": "https://localhost:8080/"
        },
        "id": "ybgYY_whcGMY",
        "outputId": "46eba3c3-b238-49c6-aac7-f3d6bf0d6be7"
      },
      "source": [
        "np.nan == np.nan, np.nan is np.nan, np.nan in [np.nan]"
      ],
      "execution_count": 28,
      "outputs": [
        {
          "output_type": "execute_result",
          "data": {
            "text/plain": [
              "(False, True, True)"
            ]
          },
          "metadata": {},
          "execution_count": 28
        }
      ]
    },
    {
      "cell_type": "code",
      "metadata": {
        "colab": {
          "base_uri": "https://localhost:8080/"
        },
        "id": "IqT8qw_odK8u",
        "outputId": "83721c40-68db-428f-bfac-60d3a8b1f45e"
      },
      "source": [
        "np.inf == np.inf, np.inf is np.inf, np.inf in [np.inf]"
      ],
      "execution_count": 29,
      "outputs": [
        {
          "output_type": "execute_result",
          "data": {
            "text/plain": [
              "(True, True, True)"
            ]
          },
          "metadata": {},
          "execution_count": 29
        }
      ]
    },
    {
      "cell_type": "code",
      "metadata": {
        "colab": {
          "base_uri": "https://localhost:8080/"
        },
        "id": "kl0JlwmkdOJW",
        "outputId": "8482231d-8451-4f61-9706-f9106d49f0df"
      },
      "source": [
        "None == None, None is None, None in [None]"
      ],
      "execution_count": 30,
      "outputs": [
        {
          "output_type": "execute_result",
          "data": {
            "text/plain": [
              "(True, True, True)"
            ]
          },
          "metadata": {},
          "execution_count": 30
        }
      ]
    },
    {
      "cell_type": "markdown",
      "metadata": {
        "id": "VT0TIk8zx-Xl"
      },
      "source": [
        "#### Select nan, inf"
      ]
    },
    {
      "cell_type": "code",
      "metadata": {
        "id": "wMkDHqoQyLrE"
      },
      "source": [
        "ary = np.array([\n",
        "  [ 1.     , 87.     , 57.54435],\n",
        "  [ 2.     ,  8.     ,  7.31704],\n",
        "  [ 3.     , 56.     , 56.82095],\n",
        "  [ 4.     , 63.     , 64.15579],\n",
        "  [ 5.     , np.nan  ,  5.74522],\n",
        "  [ 6.     , 45.     , 19.56758],\n",
        "  [ np.inf , 43.     , 39.62271],\n",
        "  [ 8.     , 47.     , 34.95107],\n",
        "  [ 9.     ,  2.     ,   np.nan],\n",
        "  [10.     , 79.     , 36.41022],\n",
        "  [11.     , 67.     , 49.83894],\n",
        "  [12.     , 24.     ,   np.inf]])"
      ],
      "execution_count": 31,
      "outputs": []
    },
    {
      "cell_type": "code",
      "metadata": {
        "colab": {
          "base_uri": "https://localhost:8080/"
        },
        "id": "N6YtJT_WzDff",
        "outputId": "74c49370-a1d4-41f1-d1ea-49b69cb1ab7f"
      },
      "source": [
        "np.isnan(ary)"
      ],
      "execution_count": 32,
      "outputs": [
        {
          "output_type": "execute_result",
          "data": {
            "text/plain": [
              "array([[False, False, False],\n",
              "       [False, False, False],\n",
              "       [False, False, False],\n",
              "       [False, False, False],\n",
              "       [False,  True, False],\n",
              "       [False, False, False],\n",
              "       [False, False, False],\n",
              "       [False, False, False],\n",
              "       [False, False,  True],\n",
              "       [False, False, False],\n",
              "       [False, False, False],\n",
              "       [False, False, False]])"
            ]
          },
          "metadata": {},
          "execution_count": 32
        }
      ]
    },
    {
      "cell_type": "code",
      "metadata": {
        "colab": {
          "base_uri": "https://localhost:8080/"
        },
        "id": "kKr2zJqgzcSI",
        "outputId": "1c629b87-306c-4c92-895c-f7e5f8c9bf56"
      },
      "source": [
        "np.isinf(ary)"
      ],
      "execution_count": 33,
      "outputs": [
        {
          "output_type": "execute_result",
          "data": {
            "text/plain": [
              "array([[False, False, False],\n",
              "       [False, False, False],\n",
              "       [False, False, False],\n",
              "       [False, False, False],\n",
              "       [False, False, False],\n",
              "       [False, False, False],\n",
              "       [ True, False, False],\n",
              "       [False, False, False],\n",
              "       [False, False, False],\n",
              "       [False, False, False],\n",
              "       [False, False, False],\n",
              "       [False, False,  True]])"
            ]
          },
          "metadata": {},
          "execution_count": 33
        }
      ]
    }
  ]
}