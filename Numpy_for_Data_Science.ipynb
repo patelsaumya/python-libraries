{
  "nbformat": 4,
  "nbformat_minor": 0,
  "metadata": {
    "colab": {
      "name": "Numpy for Data Science.ipynb",
      "provenance": [],
      "collapsed_sections": [
        "oN0T_fKmYYyB",
        "h1smzhqBYkuU",
        "8LLBFaDxYqv-"
      ],
      "toc_visible": true,
      "authorship_tag": "ABX9TyPObBhL0LjzMJBd9MfXSGnb",
      "include_colab_link": true
    },
    "kernelspec": {
      "name": "python3",
      "display_name": "Python 3"
    },
    "language_info": {
      "name": "python"
    }
  },
  "cells": [
    {
      "cell_type": "markdown",
      "metadata": {
        "id": "view-in-github",
        "colab_type": "text"
      },
      "source": [
        "<a href=\"https://colab.research.google.com/github/patelsaumya/python-libraries/blob/main/Numpy_for_Data_Science.ipynb\" target=\"_parent\"><img src=\"https://colab.research.google.com/assets/colab-badge.svg\" alt=\"Open In Colab\"/></a>"
      ]
    },
    {
      "cell_type": "code",
      "metadata": {
        "id": "22q_T1NAUOgq"
      },
      "source": [
        "import numpy as np"
      ],
      "execution_count": 1,
      "outputs": []
    },
    {
      "cell_type": "markdown",
      "metadata": {
        "id": "N6-SzvblTzkm"
      },
      "source": [
        "# Creating Arrays"
      ]
    },
    {
      "cell_type": "markdown",
      "metadata": {
        "id": "q5syUGmMUD-t"
      },
      "source": [
        "#### Explicitly Initialized Arrays\n"
      ]
    },
    {
      "cell_type": "code",
      "metadata": {
        "colab": {
          "base_uri": "https://localhost:8080/"
        },
        "id": "Mc7r6ks3UGI4",
        "outputId": "481df3a0-55d2-404b-b6e8-28e1ad97a1d2"
      },
      "source": [
        "ary = np.array([45,87,34, 5])\n",
        "ary, ary.dtype, ary.ndim, ary.shape, ary.size, ary[2]"
      ],
      "execution_count": 2,
      "outputs": [
        {
          "output_type": "execute_result",
          "data": {
            "text/plain": [
              "(array([45, 87, 34,  5]), dtype('int64'), 1, (4,), 4, 34)"
            ]
          },
          "metadata": {},
          "execution_count": 2
        }
      ]
    },
    {
      "cell_type": "code",
      "metadata": {
        "colab": {
          "base_uri": "https://localhost:8080/"
        },
        "id": "mbo-setTUVyj",
        "outputId": "e045c9df-fe4c-49b2-b5a8-a7b7aea1c0c2"
      },
      "source": [
        "ary = np.array([[44,6,78,34],[23,78,90,78]], dtype='int32')\n",
        "ary, ary.dtype, ary.ndim, ary.shape, ary.size, ary[1,3]"
      ],
      "execution_count": 3,
      "outputs": [
        {
          "output_type": "execute_result",
          "data": {
            "text/plain": [
              "(array([[44,  6, 78, 34],\n",
              "        [23, 78, 90, 78]], dtype=int32), dtype('int32'), 2, (2, 4), 8, 78)"
            ]
          },
          "metadata": {},
          "execution_count": 3
        }
      ]
    },
    {
      "cell_type": "markdown",
      "metadata": {
        "id": "JWQhV7kPVfIR"
      },
      "source": [
        "#### Create Identity Matrix\n"
      ]
    },
    {
      "cell_type": "code",
      "metadata": {
        "colab": {
          "base_uri": "https://localhost:8080/"
        },
        "id": "6WRAXp2UW3Fs",
        "outputId": "66d95a67-0de6-4b12-b91c-831846816210"
      },
      "source": [
        "np.eye(1)"
      ],
      "execution_count": 4,
      "outputs": [
        {
          "output_type": "execute_result",
          "data": {
            "text/plain": [
              "array([[1.]])"
            ]
          },
          "metadata": {},
          "execution_count": 4
        }
      ]
    },
    {
      "cell_type": "code",
      "metadata": {
        "colab": {
          "base_uri": "https://localhost:8080/"
        },
        "id": "uZ5-BIWdW6Nq",
        "outputId": "1e9ab4ad-c18e-4ddc-df07-b2b001fd3d6f"
      },
      "source": [
        "np.eye(3)"
      ],
      "execution_count": 5,
      "outputs": [
        {
          "output_type": "execute_result",
          "data": {
            "text/plain": [
              "array([[1., 0., 0.],\n",
              "       [0., 1., 0.],\n",
              "       [0., 0., 1.]])"
            ]
          },
          "metadata": {},
          "execution_count": 5
        }
      ]
    },
    {
      "cell_type": "markdown",
      "metadata": {
        "id": "oN0T_fKmYYyB"
      },
      "source": [
        "#### Diagonal Matrix"
      ]
    },
    {
      "cell_type": "markdown",
      "metadata": {
        "id": "h1smzhqBYkuU"
      },
      "source": [
        "###### Create Diagonal Matrix"
      ]
    },
    {
      "cell_type": "code",
      "metadata": {
        "colab": {
          "base_uri": "https://localhost:8080/"
        },
        "id": "C6s8UicmYdDW",
        "outputId": "3e8cf276-bf5c-408b-b1fa-1e34f9fca461"
      },
      "source": [
        "np.diag([1,5,7])"
      ],
      "execution_count": 6,
      "outputs": [
        {
          "output_type": "execute_result",
          "data": {
            "text/plain": [
              "array([[1, 0, 0],\n",
              "       [0, 5, 0],\n",
              "       [0, 0, 7]])"
            ]
          },
          "metadata": {},
          "execution_count": 6
        }
      ]
    },
    {
      "cell_type": "markdown",
      "metadata": {
        "id": "8LLBFaDxYqv-"
      },
      "source": [
        "###### Extract Diagonal from a given Matrix"
      ]
    },
    {
      "cell_type": "code",
      "metadata": {
        "colab": {
          "base_uri": "https://localhost:8080/"
        },
        "id": "Co5xBtRqY3Z_",
        "outputId": "b89d9c9e-2461-46c6-c57d-f900db34849f"
      },
      "source": [
        "ary = np.array([[23,14,65], [345,78,90]])\n",
        "np.diag(ary)"
      ],
      "execution_count": 7,
      "outputs": [
        {
          "output_type": "execute_result",
          "data": {
            "text/plain": [
              "array([23, 78])"
            ]
          },
          "metadata": {},
          "execution_count": 7
        }
      ]
    },
    {
      "cell_type": "markdown",
      "metadata": {
        "id": "eNQs4d4aaLrf"
      },
      "source": [
        "#### Create Matrix of ones, zeros, empty, full w/wo like"
      ]
    },
    {
      "cell_type": "markdown",
      "metadata": {
        "id": "Fa0H2RkhW81j"
      },
      "source": [
        "###### Without like i.e. using specific shape"
      ]
    },
    {
      "cell_type": "code",
      "metadata": {
        "colab": {
          "base_uri": "https://localhost:8080/"
        },
        "id": "GzY6DYaEWT_R",
        "outputId": "5b4ef9ca-8104-4e3a-975c-db0eecb4b74e"
      },
      "source": [
        "np.ones((2,3))"
      ],
      "execution_count": 8,
      "outputs": [
        {
          "output_type": "execute_result",
          "data": {
            "text/plain": [
              "array([[1., 1., 1.],\n",
              "       [1., 1., 1.]])"
            ]
          },
          "metadata": {},
          "execution_count": 8
        }
      ]
    },
    {
      "cell_type": "code",
      "metadata": {
        "colab": {
          "base_uri": "https://localhost:8080/"
        },
        "id": "OOmGe9h-XL3B",
        "outputId": "d4573d03-2cef-4f62-cb5e-d4c907a89f5e"
      },
      "source": [
        "np.zeros((2,3))"
      ],
      "execution_count": 9,
      "outputs": [
        {
          "output_type": "execute_result",
          "data": {
            "text/plain": [
              "array([[0., 0., 0.],\n",
              "       [0., 0., 0.]])"
            ]
          },
          "metadata": {},
          "execution_count": 9
        }
      ]
    },
    {
      "cell_type": "code",
      "metadata": {
        "colab": {
          "base_uri": "https://localhost:8080/"
        },
        "id": "li1_KYrlXN8I",
        "outputId": "9a80db20-2387-425e-b125-122fb6b9da9e"
      },
      "source": [
        "np.empty((2,3))"
      ],
      "execution_count": 10,
      "outputs": [
        {
          "output_type": "execute_result",
          "data": {
            "text/plain": [
              "array([[0., 0., 0.],\n",
              "       [0., 0., 0.]])"
            ]
          },
          "metadata": {},
          "execution_count": 10
        }
      ]
    },
    {
      "cell_type": "code",
      "metadata": {
        "colab": {
          "base_uri": "https://localhost:8080/"
        },
        "id": "QYNzQ5m2XTVp",
        "outputId": "cd667d85-48d3-47bd-dcf9-36ee148bf2de"
      },
      "source": [
        "np.full((2,3), 5)"
      ],
      "execution_count": 11,
      "outputs": [
        {
          "output_type": "execute_result",
          "data": {
            "text/plain": [
              "array([[5, 5, 5],\n",
              "       [5, 5, 5]])"
            ]
          },
          "metadata": {},
          "execution_count": 11
        }
      ]
    },
    {
      "cell_type": "markdown",
      "metadata": {
        "id": "FUVL_6znXfEo"
      },
      "source": [
        "###### Using shape of other matrix i.e. with like"
      ]
    },
    {
      "cell_type": "code",
      "metadata": {
        "colab": {
          "base_uri": "https://localhost:8080/"
        },
        "id": "Hs7xVvuHXWYj",
        "outputId": "e12f806d-30a1-4851-c938-7e70394aba31"
      },
      "source": [
        "ary = np.array([[23,14,65], [345,78,90]])\n",
        "np.ones_like(ary)"
      ],
      "execution_count": 12,
      "outputs": [
        {
          "output_type": "execute_result",
          "data": {
            "text/plain": [
              "array([[1, 1, 1],\n",
              "       [1, 1, 1]])"
            ]
          },
          "metadata": {},
          "execution_count": 12
        }
      ]
    },
    {
      "cell_type": "code",
      "metadata": {
        "colab": {
          "base_uri": "https://localhost:8080/"
        },
        "id": "AeGHVMMeX80S",
        "outputId": "3247cf05-022b-4153-90c6-28a4750a8888"
      },
      "source": [
        "# Use with Caution\n",
        "np.empty_like(ary)"
      ],
      "execution_count": 13,
      "outputs": [
        {
          "output_type": "execute_result",
          "data": {
            "text/plain": [
              "array([[94432453331728,              0,              0],\n",
              "       [             0,              0,              0]])"
            ]
          },
          "metadata": {},
          "execution_count": 13
        }
      ]
    },
    {
      "cell_type": "markdown",
      "metadata": {
        "id": "vEYqfywvazZQ"
      },
      "source": [
        "# Converting DataType of Arrays"
      ]
    },
    {
      "cell_type": "code",
      "metadata": {
        "colab": {
          "base_uri": "https://localhost:8080/"
        },
        "id": "wncuaxLia7pV",
        "outputId": "969f2934-1f59-4b84-83af-09c316de5ca1"
      },
      "source": [
        "ary = np.eye(2)\n",
        "ary, ary.dtype"
      ],
      "execution_count": 14,
      "outputs": [
        {
          "output_type": "execute_result",
          "data": {
            "text/plain": [
              "(array([[1., 0.],\n",
              "        [0., 1.]]), dtype('float64'))"
            ]
          },
          "metadata": {},
          "execution_count": 14
        }
      ]
    },
    {
      "cell_type": "code",
      "metadata": {
        "colab": {
          "base_uri": "https://localhost:8080/"
        },
        "id": "2y-dVe_jbFon",
        "outputId": "9fd72118-909d-4971-d416-062840977bfa"
      },
      "source": [
        "bry = ary.astype('int32')\n",
        "bry"
      ],
      "execution_count": 15,
      "outputs": [
        {
          "output_type": "execute_result",
          "data": {
            "text/plain": [
              "array([[1, 0],\n",
              "       [0, 1]], dtype=int32)"
            ]
          },
          "metadata": {},
          "execution_count": 15
        }
      ]
    },
    {
      "cell_type": "code",
      "metadata": {
        "colab": {
          "base_uri": "https://localhost:8080/"
        },
        "id": "3OP750_UbqZg",
        "outputId": "53d3e29a-5329-42e8-dd49-2fa85923c3c5"
      },
      "source": [
        "np.array([21, 32, None, 45])\n",
        "# This cannot be converted to numeric array"
      ],
      "execution_count": 16,
      "outputs": [
        {
          "output_type": "execute_result",
          "data": {
            "text/plain": [
              "array([21, 32, None, 45], dtype=object)"
            ]
          },
          "metadata": {},
          "execution_count": 16
        }
      ]
    },
    {
      "cell_type": "code",
      "metadata": {
        "colab": {
          "base_uri": "https://localhost:8080/"
        },
        "id": "_WszzVIXcB2w",
        "outputId": "17e2ce7f-2cf5-4871-9546-ec69e60d9898"
      },
      "source": [
        "ary = np.array([21, np.nan, 5, np.inf])\n",
        "ary, ary.dtype\n",
        "# Converting this to numeric array will replace nan and inf with random numbers"
      ],
      "execution_count": 17,
      "outputs": [
        {
          "output_type": "execute_result",
          "data": {
            "text/plain": [
              "(array([21., nan,  5., inf]), dtype('float64'))"
            ]
          },
          "metadata": {},
          "execution_count": 17
        }
      ]
    },
    {
      "cell_type": "markdown",
      "metadata": {
        "id": "zzrS6wx8QkPb"
      },
      "source": [
        "# Accessing Arrays using Indices"
      ]
    },
    {
      "cell_type": "markdown",
      "metadata": {
        "id": "XqYS_2hKOECf"
      },
      "source": [
        "#### Get Rows using Indexed Array"
      ]
    },
    {
      "cell_type": "code",
      "metadata": {
        "colab": {
          "base_uri": "https://localhost:8080/"
        },
        "id": "8A-YRnqoOTOK",
        "outputId": "5cdb198b-f1d5-4a0f-aab0-70de0c8ffdd6"
      },
      "source": [
        "ary = np.array([[22,57,97,17],\n",
        "               [45,78,34,19],\n",
        "               [34,37,88,99]])\n",
        "idx = np.array([0,2])\n",
        "ary[idx]"
      ],
      "execution_count": 18,
      "outputs": [
        {
          "output_type": "execute_result",
          "data": {
            "text/plain": [
              "array([[22, 57, 97, 17],\n",
              "       [34, 37, 88, 99]])"
            ]
          },
          "metadata": {},
          "execution_count": 18
        }
      ]
    },
    {
      "cell_type": "markdown",
      "metadata": {
        "id": "Sf4QeoG_Ox6V"
      },
      "source": [
        "#### Get Columns using Indexed Array"
      ]
    },
    {
      "cell_type": "code",
      "metadata": {
        "colab": {
          "base_uri": "https://localhost:8080/"
        },
        "id": "L5q5UnAUOwOW",
        "outputId": "1ee7ea2c-2534-4c2f-b029-17f1f7d7abd2"
      },
      "source": [
        "ary[:,idx]"
      ],
      "execution_count": 19,
      "outputs": [
        {
          "output_type": "execute_result",
          "data": {
            "text/plain": [
              "array([[22, 97],\n",
              "       [45, 34],\n",
              "       [34, 88]])"
            ]
          },
          "metadata": {},
          "execution_count": 19
        }
      ]
    },
    {
      "cell_type": "markdown",
      "metadata": {
        "id": "bs4k05CRbomN"
      },
      "source": [
        "# Data Wrangling"
      ]
    },
    {
      "cell_type": "markdown",
      "metadata": {
        "id": "RbERvd4ddrLm"
      },
      "source": [
        "#### Masked Arrays"
      ]
    },
    {
      "cell_type": "markdown",
      "metadata": {
        "id": "KWyllbgWxDvU"
      },
      "source": [
        "###### Get Elements using Mask"
      ]
    },
    {
      "cell_type": "code",
      "metadata": {
        "colab": {
          "base_uri": "https://localhost:8080/"
        },
        "id": "p7ddo43ndnWr",
        "outputId": "594888a2-63ef-4c88-ad92-b040cfccbfe5"
      },
      "source": [
        "ary = np.array([22,57,79,17])\n",
        "mask = np.array([False, True, True, False])\n",
        "ary[mask]"
      ],
      "execution_count": 20,
      "outputs": [
        {
          "output_type": "execute_result",
          "data": {
            "text/plain": [
              "array([57, 79])"
            ]
          },
          "metadata": {},
          "execution_count": 20
        }
      ]
    },
    {
      "cell_type": "code",
      "metadata": {
        "colab": {
          "base_uri": "https://localhost:8080/"
        },
        "id": "cvk7Ul_MilXZ",
        "outputId": "ee284c83-22c1-41b9-c1e2-717029813614"
      },
      "source": [
        "ary = np.array([[22,57,97,17],\n",
        "               [45,78,34,19]])\n",
        "mask = np.array([[False, True, True, False],\n",
        "                 [False, True, False, True]])\n",
        "ary[mask]"
      ],
      "execution_count": 21,
      "outputs": [
        {
          "output_type": "execute_result",
          "data": {
            "text/plain": [
              "array([57, 97, 78, 19])"
            ]
          },
          "metadata": {},
          "execution_count": 21
        }
      ]
    },
    {
      "cell_type": "markdown",
      "metadata": {
        "id": "ZoV2bXyXxQE8"
      },
      "source": [
        "###### Get Rows using Mask"
      ]
    },
    {
      "cell_type": "code",
      "metadata": {
        "colab": {
          "base_uri": "https://localhost:8080/"
        },
        "id": "iosdMbuhjIIR",
        "outputId": "449aaec9-275f-471a-fa7d-50d07328f998"
      },
      "source": [
        "ary = np.array([[22,57,97,17],\n",
        "               [45,78,34,19]])\n",
        "mask = np.array([False, True])\n",
        "ary[mask]"
      ],
      "execution_count": 22,
      "outputs": [
        {
          "output_type": "execute_result",
          "data": {
            "text/plain": [
              "array([[45, 78, 34, 19]])"
            ]
          },
          "metadata": {},
          "execution_count": 22
        }
      ]
    },
    {
      "cell_type": "markdown",
      "metadata": {
        "id": "_8Y2ias1xUAI"
      },
      "source": [
        "###### Get Columns using Mask"
      ]
    },
    {
      "cell_type": "code",
      "metadata": {
        "colab": {
          "base_uri": "https://localhost:8080/"
        },
        "id": "daY7MO1njRXS",
        "outputId": "ae48afc2-d8bd-42c8-dfed-a3bf5e8ae5b3"
      },
      "source": [
        "ary = np.array([[22,57,97,17],\n",
        "               [45,78,34,19]])\n",
        "mask = np.array([False, True, True, False])\n",
        "ary[:,mask]"
      ],
      "execution_count": 23,
      "outputs": [
        {
          "output_type": "execute_result",
          "data": {
            "text/plain": [
              "array([[57, 97],\n",
              "       [78, 34]])"
            ]
          },
          "metadata": {},
          "execution_count": 23
        }
      ]
    },
    {
      "cell_type": "markdown",
      "metadata": {
        "id": "sTnqb2v44krn"
      },
      "source": [
        "###### Negate Masked Matrix"
      ]
    },
    {
      "cell_type": "code",
      "metadata": {
        "colab": {
          "base_uri": "https://localhost:8080/"
        },
        "id": "2UaXwztK4prr",
        "outputId": "6933a203-495f-4044-bf0e-4526382ea4c4"
      },
      "source": [
        "mask = np.array([[False, True, True, False],\n",
        "                 [True, False, True, False]])\n",
        "~mask"
      ],
      "execution_count": 24,
      "outputs": [
        {
          "output_type": "execute_result",
          "data": {
            "text/plain": [
              "array([[ True, False, False,  True],\n",
              "       [False,  True, False,  True]])"
            ]
          },
          "metadata": {},
          "execution_count": 24
        }
      ]
    },
    {
      "cell_type": "markdown",
      "metadata": {
        "id": "tFcGgfXkDsKm"
      },
      "source": [
        "###### Create Masked Arrays using Conditions"
      ]
    },
    {
      "cell_type": "code",
      "metadata": {
        "colab": {
          "base_uri": "https://localhost:8080/"
        },
        "id": "a8qLeKOH-OJs",
        "outputId": "901712e0-80ba-4a26-d0fd-0ca65d2310d1"
      },
      "source": [
        "ary = np.array([[11, 22, 33, 44],\n",
        "                [55, 66, 77, 88]])\n",
        "ary > 2, ary[ary > 2]"
      ],
      "execution_count": 25,
      "outputs": [
        {
          "output_type": "execute_result",
          "data": {
            "text/plain": [
              "(array([[ True,  True,  True,  True],\n",
              "        [ True,  True,  True,  True]]),\n",
              " array([11, 22, 33, 44, 55, 66, 77, 88]))"
            ]
          },
          "metadata": {},
          "execution_count": 25
        }
      ]
    },
    {
      "cell_type": "markdown",
      "metadata": {
        "id": "4jXcOaHA077P"
      },
      "source": [
        "###### Get Masked Indices"
      ]
    },
    {
      "cell_type": "code",
      "metadata": {
        "colab": {
          "base_uri": "https://localhost:8080/"
        },
        "id": "aWTpsbBB1Idv",
        "outputId": "576c6053-07cc-475f-8ef5-711b39b5638d"
      },
      "source": [
        "mask = np.array([False, True, True, False])\n",
        "np.where(mask)"
      ],
      "execution_count": 26,
      "outputs": [
        {
          "output_type": "execute_result",
          "data": {
            "text/plain": [
              "(array([1, 2]),)"
            ]
          },
          "metadata": {},
          "execution_count": 26
        }
      ]
    },
    {
      "cell_type": "code",
      "metadata": {
        "colab": {
          "base_uri": "https://localhost:8080/"
        },
        "id": "YTQz1DQJ1XW_",
        "outputId": "bafc9b81-2188-4430-d10c-731627853cd2"
      },
      "source": [
        "np.argwhere(mask)"
      ],
      "execution_count": 27,
      "outputs": [
        {
          "output_type": "execute_result",
          "data": {
            "text/plain": [
              "array([[1],\n",
              "       [2]])"
            ]
          },
          "metadata": {},
          "execution_count": 27
        }
      ]
    },
    {
      "cell_type": "markdown",
      "metadata": {
        "id": "au8VOEUqb1T5"
      },
      "source": [
        "#### Missing Values: None, np.nan, np.inf"
      ]
    },
    {
      "cell_type": "markdown",
      "metadata": {
        "id": "C6ZqkDinc9zh"
      },
      "source": [
        "###### Test for nan and inf"
      ]
    },
    {
      "cell_type": "code",
      "metadata": {
        "colab": {
          "base_uri": "https://localhost:8080/"
        },
        "id": "ybgYY_whcGMY",
        "outputId": "895fb058-99b1-420c-c44a-9bb9dc4a6679"
      },
      "source": [
        "np.nan == np.nan, np.nan is np.nan, np.nan in [np.nan]"
      ],
      "execution_count": 28,
      "outputs": [
        {
          "output_type": "execute_result",
          "data": {
            "text/plain": [
              "(False, True, True)"
            ]
          },
          "metadata": {},
          "execution_count": 28
        }
      ]
    },
    {
      "cell_type": "code",
      "metadata": {
        "colab": {
          "base_uri": "https://localhost:8080/"
        },
        "id": "IqT8qw_odK8u",
        "outputId": "1aa5e745-f286-45b1-c218-2d1806d5585d"
      },
      "source": [
        "np.inf == np.inf, np.inf is np.inf, np.inf in [np.inf]"
      ],
      "execution_count": 29,
      "outputs": [
        {
          "output_type": "execute_result",
          "data": {
            "text/plain": [
              "(True, True, True)"
            ]
          },
          "metadata": {},
          "execution_count": 29
        }
      ]
    },
    {
      "cell_type": "code",
      "metadata": {
        "colab": {
          "base_uri": "https://localhost:8080/"
        },
        "id": "kl0JlwmkdOJW",
        "outputId": "9dfd44bf-411b-4fcb-a52b-75799f8f7de4"
      },
      "source": [
        "None == None, None is None, None in [None]"
      ],
      "execution_count": 30,
      "outputs": [
        {
          "output_type": "execute_result",
          "data": {
            "text/plain": [
              "(True, True, True)"
            ]
          },
          "metadata": {},
          "execution_count": 30
        }
      ]
    },
    {
      "cell_type": "markdown",
      "metadata": {
        "id": "VT0TIk8zx-Xl"
      },
      "source": [
        "###### Select nan, inf"
      ]
    },
    {
      "cell_type": "code",
      "metadata": {
        "id": "wMkDHqoQyLrE"
      },
      "source": [
        "ary = np.array([\n",
        "  [ 1.     , 87.     , 57.54435],\n",
        "  [ 2.     ,  8.     ,  7.31704],\n",
        "  [ 3.     , 56.     , 56.82095],\n",
        "  [ 4.     , 63.     , 64.15579],\n",
        "  [ 5.     , np.nan  ,  5.74522],\n",
        "  [ 6.     , 45.     , 19.56758],\n",
        "  [ np.inf , 43.     , 39.62271],\n",
        "  [ 8.     , 47.     , 34.95107],\n",
        "  [ 9.     ,  2.     ,   np.nan],\n",
        "  [10.     , 79.     , 36.41022],\n",
        "  [11.     , 67.     , 49.83894],\n",
        "  [12.     , 24.     ,   np.inf]])"
      ],
      "execution_count": 31,
      "outputs": []
    },
    {
      "cell_type": "code",
      "metadata": {
        "colab": {
          "base_uri": "https://localhost:8080/"
        },
        "id": "N6YtJT_WzDff",
        "outputId": "6d2eef88-4546-4557-a7f3-428cf1ebd455"
      },
      "source": [
        "np.isnan(ary)"
      ],
      "execution_count": 32,
      "outputs": [
        {
          "output_type": "execute_result",
          "data": {
            "text/plain": [
              "array([[False, False, False],\n",
              "       [False, False, False],\n",
              "       [False, False, False],\n",
              "       [False, False, False],\n",
              "       [False,  True, False],\n",
              "       [False, False, False],\n",
              "       [False, False, False],\n",
              "       [False, False, False],\n",
              "       [False, False,  True],\n",
              "       [False, False, False],\n",
              "       [False, False, False],\n",
              "       [False, False, False]])"
            ]
          },
          "metadata": {},
          "execution_count": 32
        }
      ]
    },
    {
      "cell_type": "code",
      "metadata": {
        "colab": {
          "base_uri": "https://localhost:8080/"
        },
        "id": "kKr2zJqgzcSI",
        "outputId": "b1429b89-ba77-41eb-be8a-2b2f61cc1637"
      },
      "source": [
        "np.isinf(ary)"
      ],
      "execution_count": 33,
      "outputs": [
        {
          "output_type": "execute_result",
          "data": {
            "text/plain": [
              "array([[False, False, False],\n",
              "       [False, False, False],\n",
              "       [False, False, False],\n",
              "       [False, False, False],\n",
              "       [False, False, False],\n",
              "       [False, False, False],\n",
              "       [ True, False, False],\n",
              "       [False, False, False],\n",
              "       [False, False, False],\n",
              "       [False, False, False],\n",
              "       [False, False, False],\n",
              "       [False, False,  True]])"
            ]
          },
          "metadata": {},
          "execution_count": 33
        }
      ]
    }
  ]
}