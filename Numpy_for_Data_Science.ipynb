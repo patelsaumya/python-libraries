{
  "nbformat": 4,
  "nbformat_minor": 0,
  "metadata": {
    "colab": {
      "name": "Numpy for Data Science.ipynb",
      "provenance": [],
      "collapsed_sections": [
        "oN0T_fKmYYyB",
        "h1smzhqBYkuU",
        "8LLBFaDxYqv-"
      ],
      "toc_visible": true,
      "include_colab_link": true
    },
    "kernelspec": {
      "name": "python3",
      "display_name": "Python 3"
    },
    "language_info": {
      "name": "python"
    }
  },
  "cells": [
    {
      "cell_type": "markdown",
      "metadata": {
        "id": "view-in-github",
        "colab_type": "text"
      },
      "source": [
        "<a href=\"https://colab.research.google.com/github/patelsaumya/python-libraries/blob/main/Numpy_for_Data_Science.ipynb\" target=\"_parent\"><img src=\"https://colab.research.google.com/assets/colab-badge.svg\" alt=\"Open In Colab\"/></a>"
      ]
    },
    {
      "cell_type": "code",
      "metadata": {
        "id": "22q_T1NAUOgq"
      },
      "source": [
        "import numpy as np"
      ],
      "execution_count": null,
      "outputs": []
    },
    {
      "cell_type": "markdown",
      "metadata": {
        "id": "N6-SzvblTzkm"
      },
      "source": [
        "# Creating Arrays"
      ]
    },
    {
      "cell_type": "markdown",
      "metadata": {
        "id": "q5syUGmMUD-t"
      },
      "source": [
        "## Explicitly Initialized Arrays\n"
      ]
    },
    {
      "cell_type": "code",
      "metadata": {
        "colab": {
          "base_uri": "https://localhost:8080/"
        },
        "id": "Mc7r6ks3UGI4",
        "outputId": "bdd45b11-06a0-49a7-def6-9c51e5745983"
      },
      "source": [
        "ary = np.array([45,87,34, 5])\n",
        "ary, ary.dtype, ary.ndim, ary.shape, ary.size, ary[2]"
      ],
      "execution_count": null,
      "outputs": [
        {
          "output_type": "execute_result",
          "data": {
            "text/plain": [
              "(array([45, 87, 34,  5]), dtype('int64'), 1, (4,), 4, 34)"
            ]
          },
          "metadata": {},
          "execution_count": 2
        }
      ]
    },
    {
      "cell_type": "code",
      "metadata": {
        "colab": {
          "base_uri": "https://localhost:8080/"
        },
        "id": "mbo-setTUVyj",
        "outputId": "b8338958-13b8-463c-c03e-7be5374f1962"
      },
      "source": [
        "ary = np.array([[44,6,78,34],[23,78,90,78]], dtype='int32')\n",
        "ary, ary.dtype, ary.ndim, ary.shape, ary.size, ary[1,3]"
      ],
      "execution_count": null,
      "outputs": [
        {
          "output_type": "execute_result",
          "data": {
            "text/plain": [
              "(array([[44,  6, 78, 34],\n",
              "        [23, 78, 90, 78]], dtype=int32), dtype('int32'), 2, (2, 4), 8, 78)"
            ]
          },
          "metadata": {},
          "execution_count": 3
        }
      ]
    },
    {
      "cell_type": "markdown",
      "metadata": {
        "id": "JWQhV7kPVfIR"
      },
      "source": [
        "## Create Identity Matrix\n"
      ]
    },
    {
      "cell_type": "code",
      "metadata": {
        "colab": {
          "base_uri": "https://localhost:8080/"
        },
        "id": "6WRAXp2UW3Fs",
        "outputId": "7be236ab-a5f5-44aa-fbfe-173127fadea3"
      },
      "source": [
        "np.eye(1)"
      ],
      "execution_count": null,
      "outputs": [
        {
          "output_type": "execute_result",
          "data": {
            "text/plain": [
              "array([[1.]])"
            ]
          },
          "metadata": {},
          "execution_count": 4
        }
      ]
    },
    {
      "cell_type": "code",
      "metadata": {
        "colab": {
          "base_uri": "https://localhost:8080/"
        },
        "id": "uZ5-BIWdW6Nq",
        "outputId": "3e42456c-81da-4ec8-897a-7fd54cb01551"
      },
      "source": [
        "np.eye(3)"
      ],
      "execution_count": null,
      "outputs": [
        {
          "output_type": "execute_result",
          "data": {
            "text/plain": [
              "array([[1., 0., 0.],\n",
              "       [0., 1., 0.],\n",
              "       [0., 0., 1.]])"
            ]
          },
          "metadata": {},
          "execution_count": 5
        }
      ]
    },
    {
      "cell_type": "markdown",
      "metadata": {
        "id": "oN0T_fKmYYyB"
      },
      "source": [
        "## Diagonal Matrix"
      ]
    },
    {
      "cell_type": "markdown",
      "metadata": {
        "id": "h1smzhqBYkuU"
      },
      "source": [
        "### Create Diagonal Matrix"
      ]
    },
    {
      "cell_type": "code",
      "metadata": {
        "colab": {
          "base_uri": "https://localhost:8080/"
        },
        "id": "C6s8UicmYdDW",
        "outputId": "b0788825-e879-41b1-9801-664ad07de8f7"
      },
      "source": [
        "np.diag([1,5,7])"
      ],
      "execution_count": null,
      "outputs": [
        {
          "output_type": "execute_result",
          "data": {
            "text/plain": [
              "array([[1, 0, 0],\n",
              "       [0, 5, 0],\n",
              "       [0, 0, 7]])"
            ]
          },
          "metadata": {},
          "execution_count": 6
        }
      ]
    },
    {
      "cell_type": "markdown",
      "metadata": {
        "id": "8LLBFaDxYqv-"
      },
      "source": [
        "### Extract Diagonal from a given Matrix"
      ]
    },
    {
      "cell_type": "code",
      "metadata": {
        "colab": {
          "base_uri": "https://localhost:8080/"
        },
        "id": "Co5xBtRqY3Z_",
        "outputId": "17189036-da21-4c9a-e1ef-1d11d4cb1f14"
      },
      "source": [
        "ary = np.array([[23,14,65], [345,78,90]])\n",
        "np.diag(ary)"
      ],
      "execution_count": null,
      "outputs": [
        {
          "output_type": "execute_result",
          "data": {
            "text/plain": [
              "array([23, 78])"
            ]
          },
          "metadata": {},
          "execution_count": 7
        }
      ]
    },
    {
      "cell_type": "markdown",
      "metadata": {
        "id": "eNQs4d4aaLrf"
      },
      "source": [
        "## Create Matrix of ones, zeros, empty, full w/wo like"
      ]
    },
    {
      "cell_type": "markdown",
      "metadata": {
        "id": "Fa0H2RkhW81j"
      },
      "source": [
        "### Without like i.e. using specific shape"
      ]
    },
    {
      "cell_type": "code",
      "metadata": {
        "colab": {
          "base_uri": "https://localhost:8080/"
        },
        "id": "GzY6DYaEWT_R",
        "outputId": "711526c9-4c4d-4415-8698-95492d565740"
      },
      "source": [
        "np.ones((2,3))"
      ],
      "execution_count": null,
      "outputs": [
        {
          "output_type": "execute_result",
          "data": {
            "text/plain": [
              "array([[1., 1., 1.],\n",
              "       [1., 1., 1.]])"
            ]
          },
          "metadata": {},
          "execution_count": 8
        }
      ]
    },
    {
      "cell_type": "code",
      "metadata": {
        "colab": {
          "base_uri": "https://localhost:8080/"
        },
        "id": "OOmGe9h-XL3B",
        "outputId": "33c15ed7-c64d-468a-ef5d-35e9f9caa586"
      },
      "source": [
        "np.zeros((2,3))"
      ],
      "execution_count": null,
      "outputs": [
        {
          "output_type": "execute_result",
          "data": {
            "text/plain": [
              "array([[0., 0., 0.],\n",
              "       [0., 0., 0.]])"
            ]
          },
          "metadata": {},
          "execution_count": 9
        }
      ]
    },
    {
      "cell_type": "code",
      "metadata": {
        "colab": {
          "base_uri": "https://localhost:8080/"
        },
        "id": "li1_KYrlXN8I",
        "outputId": "c87001c6-1153-4353-a8d8-c326b4ae92ac"
      },
      "source": [
        "np.empty((2,3))"
      ],
      "execution_count": null,
      "outputs": [
        {
          "output_type": "execute_result",
          "data": {
            "text/plain": [
              "array([[0., 0., 0.],\n",
              "       [0., 0., 0.]])"
            ]
          },
          "metadata": {},
          "execution_count": 10
        }
      ]
    },
    {
      "cell_type": "code",
      "metadata": {
        "colab": {
          "base_uri": "https://localhost:8080/"
        },
        "id": "QYNzQ5m2XTVp",
        "outputId": "7645b23f-8e44-4673-b977-89752e524754"
      },
      "source": [
        "np.full((2,3), 5)"
      ],
      "execution_count": null,
      "outputs": [
        {
          "output_type": "execute_result",
          "data": {
            "text/plain": [
              "array([[5, 5, 5],\n",
              "       [5, 5, 5]])"
            ]
          },
          "metadata": {},
          "execution_count": 11
        }
      ]
    },
    {
      "cell_type": "markdown",
      "metadata": {
        "id": "FUVL_6znXfEo"
      },
      "source": [
        "### Using shape of other matrix i.e. with like"
      ]
    },
    {
      "cell_type": "code",
      "metadata": {
        "colab": {
          "base_uri": "https://localhost:8080/"
        },
        "id": "Hs7xVvuHXWYj",
        "outputId": "576ef85f-d0e0-4b87-8d6b-940a8b2860e5"
      },
      "source": [
        "ary = np.array([[23,14,65], [345,78,90]])\n",
        "np.ones_like(ary)"
      ],
      "execution_count": null,
      "outputs": [
        {
          "output_type": "execute_result",
          "data": {
            "text/plain": [
              "array([[1, 1, 1],\n",
              "       [1, 1, 1]])"
            ]
          },
          "metadata": {},
          "execution_count": 12
        }
      ]
    },
    {
      "cell_type": "code",
      "metadata": {
        "colab": {
          "base_uri": "https://localhost:8080/"
        },
        "id": "AeGHVMMeX80S",
        "outputId": "dcfd0541-cea8-4ea8-94f7-00ba0001d19e"
      },
      "source": [
        "# Use with Caution\n",
        "np.empty_like(ary)"
      ],
      "execution_count": null,
      "outputs": [
        {
          "output_type": "execute_result",
          "data": {
            "text/plain": [
              "array([[94059827033104,              0,              0],\n",
              "       [             0,              0,              0]])"
            ]
          },
          "metadata": {},
          "execution_count": 13
        }
      ]
    },
    {
      "cell_type": "markdown",
      "metadata": {
        "id": "vEYqfywvazZQ"
      },
      "source": [
        "# Converting DataType of Arrays"
      ]
    },
    {
      "cell_type": "code",
      "metadata": {
        "colab": {
          "base_uri": "https://localhost:8080/"
        },
        "id": "wncuaxLia7pV",
        "outputId": "b0045756-86ef-456e-c6df-c674c12d49cd"
      },
      "source": [
        "ary = np.eye(2)\n",
        "ary, ary.dtype"
      ],
      "execution_count": null,
      "outputs": [
        {
          "output_type": "execute_result",
          "data": {
            "text/plain": [
              "(array([[1., 0.],\n",
              "        [0., 1.]]), dtype('float64'))"
            ]
          },
          "metadata": {},
          "execution_count": 14
        }
      ]
    },
    {
      "cell_type": "code",
      "metadata": {
        "colab": {
          "base_uri": "https://localhost:8080/"
        },
        "id": "2y-dVe_jbFon",
        "outputId": "dd8e1bda-5fad-4466-ca1e-3405551b09ff"
      },
      "source": [
        "bry = ary.astype('int32')\n",
        "bry"
      ],
      "execution_count": null,
      "outputs": [
        {
          "output_type": "execute_result",
          "data": {
            "text/plain": [
              "array([[1, 0],\n",
              "       [0, 1]], dtype=int32)"
            ]
          },
          "metadata": {},
          "execution_count": 15
        }
      ]
    },
    {
      "cell_type": "code",
      "metadata": {
        "colab": {
          "base_uri": "https://localhost:8080/"
        },
        "id": "3OP750_UbqZg",
        "outputId": "6309d1ed-c37b-471b-9fe6-271a657fdea0"
      },
      "source": [
        "np.array([21, 32, None, 45])\n",
        "# This cannot be converted to numeric array"
      ],
      "execution_count": null,
      "outputs": [
        {
          "output_type": "execute_result",
          "data": {
            "text/plain": [
              "array([21, 32, None, 45], dtype=object)"
            ]
          },
          "metadata": {},
          "execution_count": 16
        }
      ]
    },
    {
      "cell_type": "code",
      "metadata": {
        "colab": {
          "base_uri": "https://localhost:8080/"
        },
        "id": "_WszzVIXcB2w",
        "outputId": "0d218916-26cd-4130-e362-dd2fb1bca29a"
      },
      "source": [
        "ary = np.array([21, np.nan, 5, np.inf])\n",
        "ary, ary.dtype\n",
        "# Converting this to numeric array will replace nan and inf with random numbers"
      ],
      "execution_count": null,
      "outputs": [
        {
          "output_type": "execute_result",
          "data": {
            "text/plain": [
              "(array([21., nan,  5., inf]), dtype('float64'))"
            ]
          },
          "metadata": {},
          "execution_count": 17
        }
      ]
    },
    {
      "cell_type": "markdown",
      "metadata": {
        "id": "fLrEPZZrZWfA"
      },
      "source": [
        "# Selection and Projection"
      ]
    },
    {
      "cell_type": "markdown",
      "metadata": {
        "id": "zzrS6wx8QkPb"
      },
      "source": [
        "## Selection and Projection using Indexed Arrays"
      ]
    },
    {
      "cell_type": "markdown",
      "metadata": {
        "id": "XqYS_2hKOECf"
      },
      "source": [
        "### Get Rows using Indexed Array"
      ]
    },
    {
      "cell_type": "code",
      "metadata": {
        "colab": {
          "base_uri": "https://localhost:8080/"
        },
        "id": "8A-YRnqoOTOK",
        "outputId": "a3b97717-36aa-4d0d-f4a9-e74638ef3758"
      },
      "source": [
        "ary = np.array([[22,57,97,17],\n",
        "               [45,78,34,19],\n",
        "               [34,37,88,99]])\n",
        "idx = np.array([0,2])\n",
        "ary[idx]"
      ],
      "execution_count": null,
      "outputs": [
        {
          "output_type": "execute_result",
          "data": {
            "text/plain": [
              "array([[22, 57, 97, 17],\n",
              "       [34, 37, 88, 99]])"
            ]
          },
          "metadata": {},
          "execution_count": 18
        }
      ]
    },
    {
      "cell_type": "markdown",
      "metadata": {
        "id": "Sf4QeoG_Ox6V"
      },
      "source": [
        "### Get Columns using Indexed Array"
      ]
    },
    {
      "cell_type": "code",
      "metadata": {
        "colab": {
          "base_uri": "https://localhost:8080/"
        },
        "id": "L5q5UnAUOwOW",
        "outputId": "b67edf7e-68ae-45e2-f019-5f875261d37b"
      },
      "source": [
        "ary = np.array([[22,57,97,17],\n",
        "               [45,78,34,19],\n",
        "               [34,37,88,99]])\n",
        "idx = np.array([0,2])\n",
        "ary[:,idx]"
      ],
      "execution_count": null,
      "outputs": [
        {
          "output_type": "execute_result",
          "data": {
            "text/plain": [
              "array([[22, 97],\n",
              "       [45, 34],\n",
              "       [34, 88]])"
            ]
          },
          "metadata": {},
          "execution_count": 19
        }
      ]
    },
    {
      "cell_type": "markdown",
      "metadata": {
        "id": "yJgx2mvkYYzQ"
      },
      "source": [
        "## Selection and Projection using Masked Arrays\n",
        "\n",
        "Masking is the concept which when applied to the original array returns the elements of interest."
      ]
    },
    {
      "cell_type": "markdown",
      "metadata": {
        "id": "KWyllbgWxDvU"
      },
      "source": [
        "### Get Elements using Mask"
      ]
    },
    {
      "cell_type": "code",
      "metadata": {
        "colab": {
          "base_uri": "https://localhost:8080/"
        },
        "id": "p7ddo43ndnWr",
        "outputId": "f99d0683-7592-47e4-cbe0-251d09840a9e"
      },
      "source": [
        "ary = np.array([22,57,79,17])\n",
        "mask = np.array([False, True, True, False])\n",
        "ary[mask]"
      ],
      "execution_count": null,
      "outputs": [
        {
          "output_type": "execute_result",
          "data": {
            "text/plain": [
              "array([57, 79])"
            ]
          },
          "metadata": {},
          "execution_count": 20
        }
      ]
    },
    {
      "cell_type": "code",
      "metadata": {
        "colab": {
          "base_uri": "https://localhost:8080/"
        },
        "id": "cvk7Ul_MilXZ",
        "outputId": "658c7b37-b0dc-49ca-9b93-8211116a7cff"
      },
      "source": [
        "ary = np.array([[22,57,97,17],\n",
        "               [45,78,34,19]])\n",
        "mask = np.array([[False, True, True, False],\n",
        "                 [False, True, False, True]])\n",
        "ary[mask]"
      ],
      "execution_count": null,
      "outputs": [
        {
          "output_type": "execute_result",
          "data": {
            "text/plain": [
              "array([57, 97, 78, 19])"
            ]
          },
          "metadata": {},
          "execution_count": 21
        }
      ]
    },
    {
      "cell_type": "markdown",
      "metadata": {
        "id": "ZoV2bXyXxQE8"
      },
      "source": [
        "### Get Rows using Mask"
      ]
    },
    {
      "cell_type": "code",
      "metadata": {
        "colab": {
          "base_uri": "https://localhost:8080/"
        },
        "id": "iosdMbuhjIIR",
        "outputId": "b5dc5384-7456-4584-cf4f-94f77b683fd0"
      },
      "source": [
        "ary = np.array([[22,57,97,17],\n",
        "               [45,78,34,19]])\n",
        "mask = np.array([False, True])\n",
        "ary[mask]"
      ],
      "execution_count": null,
      "outputs": [
        {
          "output_type": "execute_result",
          "data": {
            "text/plain": [
              "array([[45, 78, 34, 19]])"
            ]
          },
          "metadata": {},
          "execution_count": 22
        }
      ]
    },
    {
      "cell_type": "markdown",
      "metadata": {
        "id": "_8Y2ias1xUAI"
      },
      "source": [
        "### Get Columns using Mask"
      ]
    },
    {
      "cell_type": "code",
      "metadata": {
        "colab": {
          "base_uri": "https://localhost:8080/"
        },
        "id": "daY7MO1njRXS",
        "outputId": "82e2c8a8-9b02-4659-80b9-3e0b4a70af0d"
      },
      "source": [
        "ary = np.array([[22,57,97,17],\n",
        "               [45,78,34,19]])\n",
        "mask = np.array([False, True, True, False])\n",
        "ary[:,mask]"
      ],
      "execution_count": null,
      "outputs": [
        {
          "output_type": "execute_result",
          "data": {
            "text/plain": [
              "array([[57, 97],\n",
              "       [78, 34]])"
            ]
          },
          "metadata": {},
          "execution_count": 23
        }
      ]
    },
    {
      "cell_type": "markdown",
      "metadata": {
        "id": "sTnqb2v44krn"
      },
      "source": [
        "### Negate Masked Matrix"
      ]
    },
    {
      "cell_type": "code",
      "metadata": {
        "colab": {
          "base_uri": "https://localhost:8080/"
        },
        "id": "2UaXwztK4prr",
        "outputId": "4302885f-a3c8-40ac-df26-13041d6be4a0"
      },
      "source": [
        "mask = np.array([[False, True, True, False],\n",
        "                 [True, False, True, False]])\n",
        "~mask"
      ],
      "execution_count": null,
      "outputs": [
        {
          "output_type": "execute_result",
          "data": {
            "text/plain": [
              "array([[ True, False, False,  True],\n",
              "       [False,  True, False,  True]])"
            ]
          },
          "metadata": {},
          "execution_count": 24
        }
      ]
    },
    {
      "cell_type": "markdown",
      "metadata": {
        "id": "enn9iBrQxLwt"
      },
      "source": [
        "## Get Mask Indices"
      ]
    },
    {
      "cell_type": "code",
      "metadata": {
        "id": "cN6h1rT6xvVv",
        "colab": {
          "base_uri": "https://localhost:8080/"
        },
        "outputId": "b7421bf7-9bc2-467e-81e8-24b46bb9e44b"
      },
      "source": [
        "ary = np.array([[22,57,97,17],\n",
        "               [45,78,34,19]])\n",
        "mask = np.array([True, False])\n",
        "print(np.where(mask), np.argwhere(mask), ary[mask], ary[np.where(mask)], sep='\\n')"
      ],
      "execution_count": null,
      "outputs": [
        {
          "output_type": "stream",
          "name": "stdout",
          "text": [
            "(array([0]),)\n",
            "[[0]]\n",
            "[[22 57 97 17]]\n",
            "[[22 57 97 17]]\n"
          ]
        }
      ]
    },
    {
      "cell_type": "code",
      "metadata": {
        "id": "X63CNJfFxlMe",
        "colab": {
          "base_uri": "https://localhost:8080/"
        },
        "outputId": "db0f5de6-9e26-4fc1-b56b-9f8899f0582e"
      },
      "source": [
        "ary = np.array([[22,57,97,17],\n",
        "               [45,78,34,19]])\n",
        "mask = np.array([False, True, True, False])\n",
        "print(np.where(mask), np.argwhere(mask), ary[:,mask], ary[:,np.where(mask)], sep='\\n')"
      ],
      "execution_count": null,
      "outputs": [
        {
          "output_type": "stream",
          "name": "stdout",
          "text": [
            "(array([1, 2]),)\n",
            "[[1]\n",
            " [2]]\n",
            "[[57 97]\n",
            " [78 34]]\n",
            "[[[57 97]]\n",
            "\n",
            " [[78 34]]]\n"
          ]
        }
      ]
    },
    {
      "cell_type": "markdown",
      "metadata": {
        "id": "tFcGgfXkDsKm"
      },
      "source": [
        "## Selection based on the Conditions"
      ]
    },
    {
      "cell_type": "markdown",
      "metadata": {
        "id": "daBXKCNlueMT"
      },
      "source": [
        "### Select the elements matching the condition"
      ]
    },
    {
      "cell_type": "code",
      "metadata": {
        "colab": {
          "base_uri": "https://localhost:8080/"
        },
        "id": "a8qLeKOH-OJs",
        "outputId": "567be821-ebf2-4e5d-c3e5-9b461254d91d"
      },
      "source": [
        "ary = np.array([[11, 22, 33, 44],\n",
        "                [55, 66, 77, 88],\n",
        "                [12, 23, 78, 99]])\n",
        "print(ary > 22, ary[ary > 22], sep='\\n')"
      ],
      "execution_count": null,
      "outputs": [
        {
          "output_type": "stream",
          "name": "stdout",
          "text": [
            "[[False False  True  True]\n",
            " [ True  True  True  True]\n",
            " [False  True  True  True]]\n",
            "[33 44 55 66 77 88 23 78 99]\n"
          ]
        }
      ]
    },
    {
      "cell_type": "markdown",
      "metadata": {
        "id": "MRPSN2LfmQEp"
      },
      "source": [
        "### Select the row if the corresponding column has a value matching the condition"
      ]
    },
    {
      "cell_type": "code",
      "metadata": {
        "id": "kSvC92w-iaN0",
        "colab": {
          "base_uri": "https://localhost:8080/"
        },
        "outputId": "a034ed75-868f-4c5d-9154-fdc0258bb2ef"
      },
      "source": [
        "ary = np.array([[11, 22, 33, 44],\n",
        "                [55, 66, 77, 88],\n",
        "                [12, 23, 78, 99]])\n",
        "mask = ary[:, 1] > 22\n",
        "print(mask, ary[mask], sep='\\n')"
      ],
      "execution_count": null,
      "outputs": [
        {
          "output_type": "stream",
          "name": "stdout",
          "text": [
            "[False  True  True]\n",
            "[[55 66 77 88]\n",
            " [12 23 78 99]]\n"
          ]
        }
      ]
    },
    {
      "cell_type": "markdown",
      "metadata": {
        "id": "EqS6O-tUsock"
      },
      "source": [
        "### Select the row if it has any value matching the condition"
      ]
    },
    {
      "cell_type": "code",
      "metadata": {
        "id": "LhcWNU4vrmZ9",
        "colab": {
          "base_uri": "https://localhost:8080/"
        },
        "outputId": "5db5371c-d71f-4ed1-f355-5f6c6c0a035e"
      },
      "source": [
        "ary = np.array([[11, 22, 33, 44],\n",
        "                [55, 66, 77, 88],\n",
        "                [12, 23, 78, 99]])\n",
        "mask = np.any(ary < 23, axis=1)\n",
        "print(mask, ary[mask,:], sep='\\n')"
      ],
      "execution_count": null,
      "outputs": [
        {
          "output_type": "stream",
          "name": "stdout",
          "text": [
            "[ True False  True]\n",
            "[[11 22 33 44]\n",
            " [12 23 78 99]]\n"
          ]
        }
      ]
    },
    {
      "cell_type": "markdown",
      "metadata": {
        "id": "fT8SzFy4miy5"
      },
      "source": [
        "### Select the column if it has any value matching the condition"
      ]
    },
    {
      "cell_type": "code",
      "metadata": {
        "id": "8GMM5lXkmoNw",
        "colab": {
          "base_uri": "https://localhost:8080/"
        },
        "outputId": "59aeeedf-200d-4910-b296-2f148ae19f8b"
      },
      "source": [
        "ary = np.array([[11, 22, 33, 44],\n",
        "                [55, 66, 77, 88],\n",
        "                [12, 23, 78, 99]])\n",
        "mask = np.any(ary < 23, axis=0)\n",
        "print(mask, ary[:,mask], sep='\\n')"
      ],
      "execution_count": null,
      "outputs": [
        {
          "output_type": "stream",
          "name": "stdout",
          "text": [
            "[ True  True False False]\n",
            "[[11 22]\n",
            " [55 66]\n",
            " [12 23]]\n"
          ]
        }
      ]
    },
    {
      "cell_type": "markdown",
      "metadata": {
        "id": "au8VOEUqb1T5"
      },
      "source": [
        "# Missing Values: None, np.nan, np.inf"
      ]
    },
    {
      "cell_type": "markdown",
      "metadata": {
        "id": "C6ZqkDinc9zh"
      },
      "source": [
        "## Test for nan and inf"
      ]
    },
    {
      "cell_type": "code",
      "metadata": {
        "colab": {
          "base_uri": "https://localhost:8080/"
        },
        "id": "ybgYY_whcGMY",
        "outputId": "b42f4934-23fa-43b8-a8ca-ab4b09575c4a"
      },
      "source": [
        "np.nan == np.nan, np.nan is np.nan, np.nan in [np.nan]"
      ],
      "execution_count": null,
      "outputs": [
        {
          "output_type": "execute_result",
          "data": {
            "text/plain": [
              "(False, True, True)"
            ]
          },
          "metadata": {},
          "execution_count": 31
        }
      ]
    },
    {
      "cell_type": "code",
      "metadata": {
        "colab": {
          "base_uri": "https://localhost:8080/"
        },
        "id": "IqT8qw_odK8u",
        "outputId": "316d57af-7026-4d70-b0a1-ceace1658aa6"
      },
      "source": [
        "np.inf == np.inf, np.inf is np.inf, np.inf in [np.inf]"
      ],
      "execution_count": null,
      "outputs": [
        {
          "output_type": "execute_result",
          "data": {
            "text/plain": [
              "(True, True, True)"
            ]
          },
          "metadata": {},
          "execution_count": 32
        }
      ]
    },
    {
      "cell_type": "code",
      "metadata": {
        "colab": {
          "base_uri": "https://localhost:8080/"
        },
        "id": "kl0JlwmkdOJW",
        "outputId": "232fa1af-04b4-47b8-b55a-ad55cffb2429"
      },
      "source": [
        "None == None, None is None, None in [None]"
      ],
      "execution_count": null,
      "outputs": [
        {
          "output_type": "execute_result",
          "data": {
            "text/plain": [
              "(True, True, True)"
            ]
          },
          "metadata": {},
          "execution_count": 33
        }
      ]
    },
    {
      "cell_type": "markdown",
      "metadata": {
        "id": "VT0TIk8zx-Xl"
      },
      "source": [
        "## Select nan, inf"
      ]
    },
    {
      "cell_type": "code",
      "metadata": {
        "id": "wMkDHqoQyLrE"
      },
      "source": [
        "ary = np.array([\n",
        "  [ 1.     , 87.     , 57.54435],\n",
        "  [ 2.     ,  8.     ,  7.31704],\n",
        "  [ 3.     , 56.     , 56.82095],\n",
        "  [ 4.     , 63.     , 64.15579],\n",
        "  [ 5.     , np.nan  ,  5.74522],\n",
        "  [ 6.     , 45.     , 19.56758],\n",
        "  [ np.inf , 43.     , 39.62271],\n",
        "  [ 8.     , 47.     , 34.95107],\n",
        "  [ 9.     ,  2.     ,   np.nan],\n",
        "  [10.     , 79.     , 36.41022],\n",
        "  [11.     , 67.     , 49.83894],\n",
        "  [12.     , 24.     ,   np.inf]])"
      ],
      "execution_count": null,
      "outputs": []
    },
    {
      "cell_type": "code",
      "metadata": {
        "colab": {
          "base_uri": "https://localhost:8080/"
        },
        "id": "N6YtJT_WzDff",
        "outputId": "0095636d-bce9-4c5b-fd0c-c2a87d843819"
      },
      "source": [
        "np.isnan(ary)"
      ],
      "execution_count": null,
      "outputs": [
        {
          "output_type": "execute_result",
          "data": {
            "text/plain": [
              "array([[False, False, False],\n",
              "       [False, False, False],\n",
              "       [False, False, False],\n",
              "       [False, False, False],\n",
              "       [False,  True, False],\n",
              "       [False, False, False],\n",
              "       [False, False, False],\n",
              "       [False, False, False],\n",
              "       [False, False,  True],\n",
              "       [False, False, False],\n",
              "       [False, False, False],\n",
              "       [False, False, False]])"
            ]
          },
          "metadata": {},
          "execution_count": 35
        }
      ]
    },
    {
      "cell_type": "code",
      "metadata": {
        "colab": {
          "base_uri": "https://localhost:8080/"
        },
        "id": "kKr2zJqgzcSI",
        "outputId": "838d46ae-e1c0-419a-8f01-2f7a4d7ebff4"
      },
      "source": [
        "np.isinf(ary)"
      ],
      "execution_count": null,
      "outputs": [
        {
          "output_type": "execute_result",
          "data": {
            "text/plain": [
              "array([[False, False, False],\n",
              "       [False, False, False],\n",
              "       [False, False, False],\n",
              "       [False, False, False],\n",
              "       [False, False, False],\n",
              "       [False, False, False],\n",
              "       [ True, False, False],\n",
              "       [False, False, False],\n",
              "       [False, False, False],\n",
              "       [False, False, False],\n",
              "       [False, False, False],\n",
              "       [False, False,  True]])"
            ]
          },
          "metadata": {},
          "execution_count": 36
        }
      ]
    },
    {
      "cell_type": "code",
      "metadata": {
        "id": "OnfTo24kdy9U",
        "colab": {
          "base_uri": "https://localhost:8080/"
        },
        "outputId": "a03d2ef4-2e84-470f-c750-9e49c30d2296"
      },
      "source": [
        "np.isnan(ary).any(axis=1) #Rows with np.nan"
      ],
      "execution_count": null,
      "outputs": [
        {
          "output_type": "execute_result",
          "data": {
            "text/plain": [
              "array([False, False, False, False,  True, False, False, False,  True,\n",
              "       False, False, False])"
            ]
          },
          "metadata": {},
          "execution_count": 37
        }
      ]
    },
    {
      "cell_type": "code",
      "metadata": {
        "id": "lLerOcRGd3od",
        "colab": {
          "base_uri": "https://localhost:8080/"
        },
        "outputId": "405eb221-894c-4aef-e50f-0ad60c829d0c"
      },
      "source": [
        "np.isnan(ary).any(axis=0) #Columns with np.nan"
      ],
      "execution_count": null,
      "outputs": [
        {
          "output_type": "execute_result",
          "data": {
            "text/plain": [
              "array([False,  True,  True])"
            ]
          },
          "metadata": {},
          "execution_count": 38
        }
      ]
    },
    {
      "cell_type": "code",
      "metadata": {
        "id": "E2XXSN2deipP",
        "colab": {
          "base_uri": "https://localhost:8080/"
        },
        "outputId": "229542ce-c3bf-46c9-8881-a4790546c41c"
      },
      "source": [
        "ary[np.isnan(ary).any(axis=1)]"
      ],
      "execution_count": null,
      "outputs": [
        {
          "output_type": "execute_result",
          "data": {
            "text/plain": [
              "array([[5.     ,     nan, 5.74522],\n",
              "       [9.     , 2.     ,     nan]])"
            ]
          },
          "metadata": {},
          "execution_count": 39
        }
      ]
    },
    {
      "cell_type": "code",
      "metadata": {
        "id": "8KAN3_QGfOx0",
        "colab": {
          "base_uri": "https://localhost:8080/"
        },
        "outputId": "1ce3ee7b-a015-4ff1-d07d-f070f0243ad5"
      },
      "source": [
        "ary[:,np.isnan(ary).any(axis=0)]"
      ],
      "execution_count": null,
      "outputs": [
        {
          "output_type": "execute_result",
          "data": {
            "text/plain": [
              "array([[87.     , 57.54435],\n",
              "       [ 8.     ,  7.31704],\n",
              "       [56.     , 56.82095],\n",
              "       [63.     , 64.15579],\n",
              "       [     nan,  5.74522],\n",
              "       [45.     , 19.56758],\n",
              "       [43.     , 39.62271],\n",
              "       [47.     , 34.95107],\n",
              "       [ 2.     ,      nan],\n",
              "       [79.     , 36.41022],\n",
              "       [67.     , 49.83894],\n",
              "       [24.     ,      inf]])"
            ]
          },
          "metadata": {},
          "execution_count": 40
        }
      ]
    },
    {
      "cell_type": "code",
      "metadata": {
        "id": "Xc0Md7qkfSr-"
      },
      "source": [
        ""
      ],
      "execution_count": null,
      "outputs": []
    }
  ]
}