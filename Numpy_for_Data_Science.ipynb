{
  "nbformat": 4,
  "nbformat_minor": 0,
  "metadata": {
    "colab": {
      "name": "Numpy for Data Science.ipynb",
      "provenance": [],
      "collapsed_sections": [
        "oN0T_fKmYYyB",
        "h1smzhqBYkuU",
        "8LLBFaDxYqv-"
      ],
      "toc_visible": true,
      "include_colab_link": true
    },
    "kernelspec": {
      "name": "python3",
      "display_name": "Python 3"
    },
    "language_info": {
      "name": "python"
    }
  },
  "cells": [
    {
      "cell_type": "markdown",
      "metadata": {
        "id": "view-in-github",
        "colab_type": "text"
      },
      "source": [
        "<a href=\"https://colab.research.google.com/github/patelsaumya/python-libraries/blob/main/Numpy_for_Data_Science.ipynb\" target=\"_parent\"><img src=\"https://colab.research.google.com/assets/colab-badge.svg\" alt=\"Open In Colab\"/></a>"
      ]
    },
    {
      "cell_type": "code",
      "metadata": {
        "id": "22q_T1NAUOgq"
      },
      "source": [
        "import numpy as np"
      ],
      "execution_count": 1,
      "outputs": []
    },
    {
      "cell_type": "markdown",
      "metadata": {
        "id": "N6-SzvblTzkm"
      },
      "source": [
        "# Creating Arrays"
      ]
    },
    {
      "cell_type": "markdown",
      "metadata": {
        "id": "q5syUGmMUD-t"
      },
      "source": [
        "#### Explicitly Initialized Arrays\n"
      ]
    },
    {
      "cell_type": "code",
      "metadata": {
        "colab": {
          "base_uri": "https://localhost:8080/"
        },
        "id": "Mc7r6ks3UGI4",
        "outputId": "1d4fb408-4641-4470-aa2f-dae8bdf4c069"
      },
      "source": [
        "ary = np.array([45,87,34, 5])\n",
        "ary, ary.dtype, ary.ndim, ary.shape, ary.size, ary[2]"
      ],
      "execution_count": 2,
      "outputs": [
        {
          "output_type": "execute_result",
          "data": {
            "text/plain": [
              "(array([45, 87, 34,  5]), dtype('int64'), 1, (4,), 4, 34)"
            ]
          },
          "metadata": {},
          "execution_count": 2
        }
      ]
    },
    {
      "cell_type": "code",
      "metadata": {
        "colab": {
          "base_uri": "https://localhost:8080/"
        },
        "id": "mbo-setTUVyj",
        "outputId": "858bc749-f7d0-43a4-ff82-859333ef67f3"
      },
      "source": [
        "ary = np.array([[44,6,78,34],[23,78,90,78]], dtype='int32')\n",
        "ary, ary.dtype, ary.ndim, ary.shape, ary.size, ary[1,3]"
      ],
      "execution_count": 3,
      "outputs": [
        {
          "output_type": "execute_result",
          "data": {
            "text/plain": [
              "(array([[44,  6, 78, 34],\n",
              "        [23, 78, 90, 78]], dtype=int32), dtype('int32'), 2, (2, 4), 8, 78)"
            ]
          },
          "metadata": {},
          "execution_count": 3
        }
      ]
    },
    {
      "cell_type": "markdown",
      "metadata": {
        "id": "JWQhV7kPVfIR"
      },
      "source": [
        "#### Create Identity Matrix\n"
      ]
    },
    {
      "cell_type": "code",
      "metadata": {
        "colab": {
          "base_uri": "https://localhost:8080/"
        },
        "id": "6WRAXp2UW3Fs",
        "outputId": "21c5bba7-2c22-4e39-e0f0-7395e249299b"
      },
      "source": [
        "np.eye(1)"
      ],
      "execution_count": 4,
      "outputs": [
        {
          "output_type": "execute_result",
          "data": {
            "text/plain": [
              "array([[1.]])"
            ]
          },
          "metadata": {},
          "execution_count": 4
        }
      ]
    },
    {
      "cell_type": "code",
      "metadata": {
        "colab": {
          "base_uri": "https://localhost:8080/"
        },
        "id": "uZ5-BIWdW6Nq",
        "outputId": "bf3d5a58-21df-46d6-a84d-75fe7ecf0617"
      },
      "source": [
        "np.eye(3)"
      ],
      "execution_count": 5,
      "outputs": [
        {
          "output_type": "execute_result",
          "data": {
            "text/plain": [
              "array([[1., 0., 0.],\n",
              "       [0., 1., 0.],\n",
              "       [0., 0., 1.]])"
            ]
          },
          "metadata": {},
          "execution_count": 5
        }
      ]
    },
    {
      "cell_type": "markdown",
      "metadata": {
        "id": "oN0T_fKmYYyB"
      },
      "source": [
        "#### Diagonal Matrix"
      ]
    },
    {
      "cell_type": "markdown",
      "metadata": {
        "id": "h1smzhqBYkuU"
      },
      "source": [
        "###### Create Diagonal Matrix"
      ]
    },
    {
      "cell_type": "code",
      "metadata": {
        "colab": {
          "base_uri": "https://localhost:8080/"
        },
        "id": "C6s8UicmYdDW",
        "outputId": "7fbb364e-06f2-42a9-e095-ac6eaf1aea8f"
      },
      "source": [
        "np.diag([1,5,7])"
      ],
      "execution_count": 47,
      "outputs": [
        {
          "output_type": "execute_result",
          "data": {
            "text/plain": [
              "array([[1, 0, 0],\n",
              "       [0, 5, 0],\n",
              "       [0, 0, 7]])"
            ]
          },
          "metadata": {},
          "execution_count": 47
        }
      ]
    },
    {
      "cell_type": "markdown",
      "metadata": {
        "id": "8LLBFaDxYqv-"
      },
      "source": [
        "###### Extract Diagonal from a given Matrix"
      ]
    },
    {
      "cell_type": "code",
      "metadata": {
        "colab": {
          "base_uri": "https://localhost:8080/"
        },
        "id": "Co5xBtRqY3Z_",
        "outputId": "fa812d02-fe49-45dd-ac2d-e0a842fd3230"
      },
      "source": [
        "ary = np.array([[23,14,65], [345,78,90]])\n",
        "np.diag(ary)"
      ],
      "execution_count": 48,
      "outputs": [
        {
          "output_type": "execute_result",
          "data": {
            "text/plain": [
              "array([23, 78])"
            ]
          },
          "metadata": {},
          "execution_count": 48
        }
      ]
    },
    {
      "cell_type": "markdown",
      "metadata": {
        "id": "eNQs4d4aaLrf"
      },
      "source": [
        "#### Create Matrix of ones, zeros, empty, full w/wo like"
      ]
    },
    {
      "cell_type": "markdown",
      "metadata": {
        "id": "Fa0H2RkhW81j"
      },
      "source": [
        "###### Without like i.e. using specific shape"
      ]
    },
    {
      "cell_type": "code",
      "metadata": {
        "colab": {
          "base_uri": "https://localhost:8080/"
        },
        "id": "GzY6DYaEWT_R",
        "outputId": "1f0b4b9a-e5dc-4fb1-c17d-566cb9b3ff4d"
      },
      "source": [
        "np.ones((2,3))"
      ],
      "execution_count": 41,
      "outputs": [
        {
          "output_type": "execute_result",
          "data": {
            "text/plain": [
              "array([[1., 1., 1.],\n",
              "       [1., 1., 1.]])"
            ]
          },
          "metadata": {},
          "execution_count": 41
        }
      ]
    },
    {
      "cell_type": "code",
      "metadata": {
        "colab": {
          "base_uri": "https://localhost:8080/"
        },
        "id": "OOmGe9h-XL3B",
        "outputId": "4248bf8e-f271-4a3a-ba28-9f599bee38c4"
      },
      "source": [
        "np.zeros((2,3))"
      ],
      "execution_count": 42,
      "outputs": [
        {
          "output_type": "execute_result",
          "data": {
            "text/plain": [
              "array([[0., 0., 0.],\n",
              "       [0., 0., 0.]])"
            ]
          },
          "metadata": {},
          "execution_count": 42
        }
      ]
    },
    {
      "cell_type": "code",
      "metadata": {
        "colab": {
          "base_uri": "https://localhost:8080/"
        },
        "id": "li1_KYrlXN8I",
        "outputId": "22af2489-26c8-42c3-8820-2f6dc2b3df19"
      },
      "source": [
        "np.empty((2,3))"
      ],
      "execution_count": 43,
      "outputs": [
        {
          "output_type": "execute_result",
          "data": {
            "text/plain": [
              "array([[0., 0., 0.],\n",
              "       [0., 0., 0.]])"
            ]
          },
          "metadata": {},
          "execution_count": 43
        }
      ]
    },
    {
      "cell_type": "code",
      "metadata": {
        "colab": {
          "base_uri": "https://localhost:8080/"
        },
        "id": "QYNzQ5m2XTVp",
        "outputId": "be15cbc5-f32f-4fd9-a043-95e926b5ad89"
      },
      "source": [
        "np.full((2,3), 5)"
      ],
      "execution_count": 44,
      "outputs": [
        {
          "output_type": "execute_result",
          "data": {
            "text/plain": [
              "array([[5, 5, 5],\n",
              "       [5, 5, 5]])"
            ]
          },
          "metadata": {},
          "execution_count": 44
        }
      ]
    },
    {
      "cell_type": "markdown",
      "metadata": {
        "id": "FUVL_6znXfEo"
      },
      "source": [
        "###### Using shape of other matrix i.e. with like"
      ]
    },
    {
      "cell_type": "code",
      "metadata": {
        "colab": {
          "base_uri": "https://localhost:8080/"
        },
        "id": "Hs7xVvuHXWYj",
        "outputId": "31c271ce-3334-4900-b006-a7c80d1f551b"
      },
      "source": [
        "ary = np.array([[23,14,65], [345,78,90]])\n",
        "np.ones_like(ary)"
      ],
      "execution_count": 45,
      "outputs": [
        {
          "output_type": "execute_result",
          "data": {
            "text/plain": [
              "array([[1, 1, 1],\n",
              "       [1, 1, 1]])"
            ]
          },
          "metadata": {},
          "execution_count": 45
        }
      ]
    },
    {
      "cell_type": "code",
      "metadata": {
        "colab": {
          "base_uri": "https://localhost:8080/"
        },
        "id": "AeGHVMMeX80S",
        "outputId": "87f291da-c556-4393-baf5-d5aa43448890"
      },
      "source": [
        "# Use with Caution\n",
        "np.empty_like(ary)"
      ],
      "execution_count": 46,
      "outputs": [
        {
          "output_type": "execute_result",
          "data": {
            "text/plain": [
              "array([[93963587024416,              0,              0],\n",
              "       [             0,              0,              0]])"
            ]
          },
          "metadata": {},
          "execution_count": 46
        }
      ]
    },
    {
      "cell_type": "markdown",
      "metadata": {
        "id": "vEYqfywvazZQ"
      },
      "source": [
        "# Converting DataType of Arrays"
      ]
    },
    {
      "cell_type": "code",
      "metadata": {
        "colab": {
          "base_uri": "https://localhost:8080/"
        },
        "id": "wncuaxLia7pV",
        "outputId": "240558ca-0983-426e-aace-2fbbd2d98b2c"
      },
      "source": [
        "ary = np.eye(2)\n",
        "ary, ary.dtype"
      ],
      "execution_count": 14,
      "outputs": [
        {
          "output_type": "execute_result",
          "data": {
            "text/plain": [
              "(array([[1., 0.],\n",
              "        [0., 1.]]), dtype('float64'))"
            ]
          },
          "metadata": {},
          "execution_count": 14
        }
      ]
    },
    {
      "cell_type": "code",
      "metadata": {
        "colab": {
          "base_uri": "https://localhost:8080/"
        },
        "id": "2y-dVe_jbFon",
        "outputId": "ca5ea091-cf4c-40be-a895-c7ccfba36706"
      },
      "source": [
        "bry = ary.astype('int32')\n",
        "bry"
      ],
      "execution_count": 15,
      "outputs": [
        {
          "output_type": "execute_result",
          "data": {
            "text/plain": [
              "array([[1, 0],\n",
              "       [0, 1]], dtype=int32)"
            ]
          },
          "metadata": {},
          "execution_count": 15
        }
      ]
    },
    {
      "cell_type": "code",
      "metadata": {
        "colab": {
          "base_uri": "https://localhost:8080/"
        },
        "id": "3OP750_UbqZg",
        "outputId": "974b8ccd-c6a5-446a-cb25-dc3a5a9339d7"
      },
      "source": [
        "np.array([21, 32, None, 45])\n",
        "# This cannot be converted to numeric array"
      ],
      "execution_count": 16,
      "outputs": [
        {
          "output_type": "execute_result",
          "data": {
            "text/plain": [
              "array([21, 32, None, 45], dtype=object)"
            ]
          },
          "metadata": {},
          "execution_count": 16
        }
      ]
    },
    {
      "cell_type": "code",
      "metadata": {
        "colab": {
          "base_uri": "https://localhost:8080/"
        },
        "id": "_WszzVIXcB2w",
        "outputId": "4fe4e8f4-1291-4a7d-e740-89b0253b654b"
      },
      "source": [
        "ary = np.array([21, np.nan, 5, np.inf])\n",
        "ary, ary.dtype\n",
        "# Converting this to numeric array will replace nan and inf with random numbers"
      ],
      "execution_count": 17,
      "outputs": [
        {
          "output_type": "execute_result",
          "data": {
            "text/plain": [
              "(array([21., nan,  5., inf]), dtype('float64'))"
            ]
          },
          "metadata": {},
          "execution_count": 17
        }
      ]
    },
    {
      "cell_type": "markdown",
      "metadata": {
        "id": "fLrEPZZrZWfA"
      },
      "source": [
        "# Selection and Projection"
      ]
    },
    {
      "cell_type": "markdown",
      "metadata": {
        "id": "zzrS6wx8QkPb"
      },
      "source": [
        "#### Selection and Projection using Indexed Arrays"
      ]
    },
    {
      "cell_type": "markdown",
      "metadata": {
        "id": "XqYS_2hKOECf"
      },
      "source": [
        "###### Get Rows using Indexed Array"
      ]
    },
    {
      "cell_type": "code",
      "metadata": {
        "colab": {
          "base_uri": "https://localhost:8080/"
        },
        "id": "8A-YRnqoOTOK",
        "outputId": "4ade3c68-3721-4549-e6c6-165538602384"
      },
      "source": [
        "ary = np.array([[22,57,97,17],\n",
        "               [45,78,34,19],\n",
        "               [34,37,88,99]])\n",
        "idx = np.array([0,2])\n",
        "ary[idx]"
      ],
      "execution_count": 18,
      "outputs": [
        {
          "output_type": "execute_result",
          "data": {
            "text/plain": [
              "array([[22, 57, 97, 17],\n",
              "       [34, 37, 88, 99]])"
            ]
          },
          "metadata": {},
          "execution_count": 18
        }
      ]
    },
    {
      "cell_type": "markdown",
      "metadata": {
        "id": "Sf4QeoG_Ox6V"
      },
      "source": [
        "###### Get Columns using Indexed Array"
      ]
    },
    {
      "cell_type": "code",
      "metadata": {
        "colab": {
          "base_uri": "https://localhost:8080/"
        },
        "id": "L5q5UnAUOwOW",
        "outputId": "8a0d61f4-2ab9-49b5-a1e5-7098c8a6edc6"
      },
      "source": [
        "ary[:,idx]"
      ],
      "execution_count": 19,
      "outputs": [
        {
          "output_type": "execute_result",
          "data": {
            "text/plain": [
              "array([[22, 97],\n",
              "       [45, 34],\n",
              "       [34, 88]])"
            ]
          },
          "metadata": {},
          "execution_count": 19
        }
      ]
    },
    {
      "cell_type": "markdown",
      "metadata": {
        "id": "yJgx2mvkYYzQ"
      },
      "source": [
        "#### Selection and Projection using Masked Arrays"
      ]
    },
    {
      "cell_type": "markdown",
      "metadata": {
        "id": "KWyllbgWxDvU"
      },
      "source": [
        "###### Get Elements using Mask"
      ]
    },
    {
      "cell_type": "code",
      "metadata": {
        "colab": {
          "base_uri": "https://localhost:8080/"
        },
        "id": "p7ddo43ndnWr",
        "outputId": "f157f925-bc2b-4823-825a-98234ddf0489"
      },
      "source": [
        "ary = np.array([22,57,79,17])\n",
        "mask = np.array([False, True, True, False])\n",
        "ary[mask]"
      ],
      "execution_count": 20,
      "outputs": [
        {
          "output_type": "execute_result",
          "data": {
            "text/plain": [
              "array([57, 79])"
            ]
          },
          "metadata": {},
          "execution_count": 20
        }
      ]
    },
    {
      "cell_type": "code",
      "metadata": {
        "colab": {
          "base_uri": "https://localhost:8080/"
        },
        "id": "cvk7Ul_MilXZ",
        "outputId": "ab734795-e4d8-4446-f585-e0b50bfc2c24"
      },
      "source": [
        "ary = np.array([[22,57,97,17],\n",
        "               [45,78,34,19]])\n",
        "mask = np.array([[False, True, True, False],\n",
        "                 [False, True, False, True]])\n",
        "ary[mask]"
      ],
      "execution_count": 21,
      "outputs": [
        {
          "output_type": "execute_result",
          "data": {
            "text/plain": [
              "array([57, 97, 78, 19])"
            ]
          },
          "metadata": {},
          "execution_count": 21
        }
      ]
    },
    {
      "cell_type": "markdown",
      "metadata": {
        "id": "ZoV2bXyXxQE8"
      },
      "source": [
        "###### Get Rows using Mask"
      ]
    },
    {
      "cell_type": "code",
      "metadata": {
        "colab": {
          "base_uri": "https://localhost:8080/"
        },
        "id": "iosdMbuhjIIR",
        "outputId": "65a7c5b9-bb7a-4018-ef72-e16f8d47f57f"
      },
      "source": [
        "ary = np.array([[22,57,97,17],\n",
        "               [45,78,34,19]])\n",
        "mask = np.array([False, True])\n",
        "ary[mask]"
      ],
      "execution_count": 22,
      "outputs": [
        {
          "output_type": "execute_result",
          "data": {
            "text/plain": [
              "array([[45, 78, 34, 19]])"
            ]
          },
          "metadata": {},
          "execution_count": 22
        }
      ]
    },
    {
      "cell_type": "markdown",
      "metadata": {
        "id": "_8Y2ias1xUAI"
      },
      "source": [
        "###### Get Columns using Mask"
      ]
    },
    {
      "cell_type": "code",
      "metadata": {
        "colab": {
          "base_uri": "https://localhost:8080/"
        },
        "id": "daY7MO1njRXS",
        "outputId": "36b93225-bcc0-4f70-84bb-a807ec9c1397"
      },
      "source": [
        "ary = np.array([[22,57,97,17],\n",
        "               [45,78,34,19]])\n",
        "mask = np.array([False, True, True, False])\n",
        "ary[:,mask]"
      ],
      "execution_count": 23,
      "outputs": [
        {
          "output_type": "execute_result",
          "data": {
            "text/plain": [
              "array([[57, 97],\n",
              "       [78, 34]])"
            ]
          },
          "metadata": {},
          "execution_count": 23
        }
      ]
    },
    {
      "cell_type": "markdown",
      "metadata": {
        "id": "sTnqb2v44krn"
      },
      "source": [
        "###### Negate Masked Matrix"
      ]
    },
    {
      "cell_type": "code",
      "metadata": {
        "colab": {
          "base_uri": "https://localhost:8080/"
        },
        "id": "2UaXwztK4prr",
        "outputId": "15b5f585-66de-4cb1-d08e-218a97ec304a"
      },
      "source": [
        "mask = np.array([[False, True, True, False],\n",
        "                 [True, False, True, False]])\n",
        "~mask"
      ],
      "execution_count": 24,
      "outputs": [
        {
          "output_type": "execute_result",
          "data": {
            "text/plain": [
              "array([[ True, False, False,  True],\n",
              "       [False,  True, False,  True]])"
            ]
          },
          "metadata": {},
          "execution_count": 24
        }
      ]
    },
    {
      "cell_type": "markdown",
      "metadata": {
        "id": "tFcGgfXkDsKm"
      },
      "source": [
        "###### Create Masked Arrays using Conditions"
      ]
    },
    {
      "cell_type": "code",
      "metadata": {
        "colab": {
          "base_uri": "https://localhost:8080/"
        },
        "id": "a8qLeKOH-OJs",
        "outputId": "3358ddaf-7ff1-4b9c-e510-81a5d98f3bee"
      },
      "source": [
        "ary = np.array([[11, 22, 33, 44],\n",
        "                [55, 66, 77, 88]])\n",
        "ary > 2"
      ],
      "execution_count": 25,
      "outputs": [
        {
          "output_type": "execute_result",
          "data": {
            "text/plain": [
              "array([[ True,  True,  True,  True],\n",
              "       [ True,  True,  True,  True]])"
            ]
          },
          "metadata": {},
          "execution_count": 25
        }
      ]
    },
    {
      "cell_type": "markdown",
      "metadata": {
        "id": "4jXcOaHA077P"
      },
      "source": [
        "###### Get Masked Indices"
      ]
    },
    {
      "cell_type": "code",
      "metadata": {
        "colab": {
          "base_uri": "https://localhost:8080/"
        },
        "id": "aWTpsbBB1Idv",
        "outputId": "5c05030b-beec-44d8-ebfa-f4d98f997626"
      },
      "source": [
        "mask = np.array([False, True, True, False])\n",
        "np.where(mask)"
      ],
      "execution_count": 26,
      "outputs": [
        {
          "output_type": "execute_result",
          "data": {
            "text/plain": [
              "(array([1, 2]),)"
            ]
          },
          "metadata": {},
          "execution_count": 26
        }
      ]
    },
    {
      "cell_type": "code",
      "metadata": {
        "colab": {
          "base_uri": "https://localhost:8080/"
        },
        "id": "YTQz1DQJ1XW_",
        "outputId": "ebdf16ed-e545-4552-fc1b-f63a50dd2223"
      },
      "source": [
        "np.argwhere(mask)"
      ],
      "execution_count": 27,
      "outputs": [
        {
          "output_type": "execute_result",
          "data": {
            "text/plain": [
              "array([[1],\n",
              "       [2]])"
            ]
          },
          "metadata": {},
          "execution_count": 27
        }
      ]
    },
    {
      "cell_type": "markdown",
      "metadata": {
        "id": "au8VOEUqb1T5"
      },
      "source": [
        "# Missing Values: None, np.nan, np.inf"
      ]
    },
    {
      "cell_type": "markdown",
      "metadata": {
        "id": "C6ZqkDinc9zh"
      },
      "source": [
        "#### Test for nan and inf"
      ]
    },
    {
      "cell_type": "code",
      "metadata": {
        "colab": {
          "base_uri": "https://localhost:8080/"
        },
        "id": "ybgYY_whcGMY",
        "outputId": "4a0f823a-eed0-4e3d-cea4-35054122aab4"
      },
      "source": [
        "np.nan == np.nan, np.nan is np.nan, np.nan in [np.nan]"
      ],
      "execution_count": 28,
      "outputs": [
        {
          "output_type": "execute_result",
          "data": {
            "text/plain": [
              "(False, True, True)"
            ]
          },
          "metadata": {},
          "execution_count": 28
        }
      ]
    },
    {
      "cell_type": "code",
      "metadata": {
        "colab": {
          "base_uri": "https://localhost:8080/"
        },
        "id": "IqT8qw_odK8u",
        "outputId": "ca8042e4-7128-4931-ad6c-eae23fb2fd18"
      },
      "source": [
        "np.inf == np.inf, np.inf is np.inf, np.inf in [np.inf]"
      ],
      "execution_count": 29,
      "outputs": [
        {
          "output_type": "execute_result",
          "data": {
            "text/plain": [
              "(True, True, True)"
            ]
          },
          "metadata": {},
          "execution_count": 29
        }
      ]
    },
    {
      "cell_type": "code",
      "metadata": {
        "colab": {
          "base_uri": "https://localhost:8080/"
        },
        "id": "kl0JlwmkdOJW",
        "outputId": "c1133ad6-014e-468d-c65c-abc1c6ef611b"
      },
      "source": [
        "None == None, None is None, None in [None]"
      ],
      "execution_count": 30,
      "outputs": [
        {
          "output_type": "execute_result",
          "data": {
            "text/plain": [
              "(True, True, True)"
            ]
          },
          "metadata": {},
          "execution_count": 30
        }
      ]
    },
    {
      "cell_type": "markdown",
      "metadata": {
        "id": "VT0TIk8zx-Xl"
      },
      "source": [
        "#### Select nan, inf"
      ]
    },
    {
      "cell_type": "code",
      "metadata": {
        "id": "wMkDHqoQyLrE"
      },
      "source": [
        "ary = np.array([\n",
        "  [ 1.     , 87.     , 57.54435],\n",
        "  [ 2.     ,  8.     ,  7.31704],\n",
        "  [ 3.     , 56.     , 56.82095],\n",
        "  [ 4.     , 63.     , 64.15579],\n",
        "  [ 5.     , np.nan  ,  5.74522],\n",
        "  [ 6.     , 45.     , 19.56758],\n",
        "  [ np.inf , 43.     , 39.62271],\n",
        "  [ 8.     , 47.     , 34.95107],\n",
        "  [ 9.     ,  2.     ,   np.nan],\n",
        "  [10.     , 79.     , 36.41022],\n",
        "  [11.     , 67.     , 49.83894],\n",
        "  [12.     , 24.     ,   np.inf]])"
      ],
      "execution_count": 31,
      "outputs": []
    },
    {
      "cell_type": "code",
      "metadata": {
        "colab": {
          "base_uri": "https://localhost:8080/"
        },
        "id": "N6YtJT_WzDff",
        "outputId": "1ba7389c-5f03-4a38-ffc3-f2ebc2e2c7bf"
      },
      "source": [
        "np.isnan(ary)"
      ],
      "execution_count": 32,
      "outputs": [
        {
          "output_type": "execute_result",
          "data": {
            "text/plain": [
              "array([[False, False, False],\n",
              "       [False, False, False],\n",
              "       [False, False, False],\n",
              "       [False, False, False],\n",
              "       [False,  True, False],\n",
              "       [False, False, False],\n",
              "       [False, False, False],\n",
              "       [False, False, False],\n",
              "       [False, False,  True],\n",
              "       [False, False, False],\n",
              "       [False, False, False],\n",
              "       [False, False, False]])"
            ]
          },
          "metadata": {},
          "execution_count": 32
        }
      ]
    },
    {
      "cell_type": "code",
      "metadata": {
        "colab": {
          "base_uri": "https://localhost:8080/"
        },
        "id": "kKr2zJqgzcSI",
        "outputId": "5c4a6ec4-04bb-41f1-d882-6b9d7acac752"
      },
      "source": [
        "np.isinf(ary)"
      ],
      "execution_count": 33,
      "outputs": [
        {
          "output_type": "execute_result",
          "data": {
            "text/plain": [
              "array([[False, False, False],\n",
              "       [False, False, False],\n",
              "       [False, False, False],\n",
              "       [False, False, False],\n",
              "       [False, False, False],\n",
              "       [False, False, False],\n",
              "       [ True, False, False],\n",
              "       [False, False, False],\n",
              "       [False, False, False],\n",
              "       [False, False, False],\n",
              "       [False, False, False],\n",
              "       [False, False,  True]])"
            ]
          },
          "metadata": {},
          "execution_count": 33
        }
      ]
    }
  ]
}