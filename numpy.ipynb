{
  "nbformat": 4,
  "nbformat_minor": 0,
  "metadata": {
    "colab": {
      "name": "numpy.ipynb",
      "provenance": [],
      "authorship_tag": "ABX9TyNwvnE3ZE7+/i4kgBmPqeae",
      "include_colab_link": true
    },
    "kernelspec": {
      "name": "python3",
      "display_name": "Python 3"
    },
    "language_info": {
      "name": "python"
    }
  },
  "cells": [
    {
      "cell_type": "markdown",
      "metadata": {
        "id": "view-in-github",
        "colab_type": "text"
      },
      "source": [
        "<a href=\"https://colab.research.google.com/github/patelsaumya/python-libraries/blob/main/numpy.ipynb\" target=\"_parent\"><img src=\"https://colab.research.google.com/assets/colab-badge.svg\" alt=\"Open In Colab\"/></a>"
      ]
    },
    {
      "cell_type": "markdown",
      "metadata": {
        "id": "vw0k3i-xwQMz"
      },
      "source": [
        "__Features of Numpy__\n",
        "\n",
        "* Data Structure: ndarray\n",
        "* Creating arrays of type ndarray\n",
        "  * np.array\n",
        "  * np.eye\n",
        "  * np.diag\n",
        "      * Create a Diagonal Matrix\n",
        "      * Extract a diagonal as 1D Array\n",
        "  * np.ones(_like)\n",
        "  * np.zeros(_like)\n",
        "  * np.empty(_like)\n",
        "  * np.full(_like)\n",
        "* Inspecting the structure of ndarray\n",
        "  * .dtype\n",
        "  * .ndim\n",
        "  * .shape\n",
        "  * .size\n",
        "* Changing the datatype of ndarray (creates new array)\n",
        "  * .astype()\n",
        "* Fetching indices\n",
        "  * Fetching indices of the elements of interest\n",
        "  * Fetching indices of the rows of interest\n",
        "  * Fetching indices of the columns of interest\n",
        "* Selection and Projection using list of indices\n",
        "  * Get outer elements\n",
        "  * Get inner elements\n"
      ]
    }
  ]
}